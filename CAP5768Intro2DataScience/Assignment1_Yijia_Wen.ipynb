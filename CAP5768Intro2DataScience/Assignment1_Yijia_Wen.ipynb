{
 "cells": [
  {
   "cell_type": "markdown",
   "metadata": {},
   "source": [
    "# Missing Data and PCA"
   ]
  },
  {
   "cell_type": "markdown",
   "metadata": {},
   "source": [
    "### 1a.\tExplore the dataset and show the details of the dataset(using pandas)"
   ]
  },
  {
   "cell_type": "code",
   "execution_count": 88,
   "metadata": {},
   "outputs": [],
   "source": [
    "import pandas as pd\n",
    "import numpy as np"
   ]
  },
  {
   "cell_type": "code",
   "execution_count": 30,
   "metadata": {},
   "outputs": [],
   "source": [
    "loan=pd.read_csv('/Users/yoga/Dropbox/0 FSU/5_2023_spring/3 CAP intro to data science/assignment/Introduction to Data Science assignment1/loan.csv')"
   ]
  },
  {
   "cell_type": "code",
   "execution_count": 31,
   "metadata": {},
   "outputs": [
    {
     "name": "stdout",
     "output_type": "stream",
     "text": [
      "<class 'pandas.core.frame.DataFrame'>\n",
      "RangeIndex: 614 entries, 0 to 613\n",
      "Data columns (total 13 columns):\n",
      " #   Column             Non-Null Count  Dtype  \n",
      "---  ------             --------------  -----  \n",
      " 0   Loan_ID            614 non-null    object \n",
      " 1   Gender             601 non-null    object \n",
      " 2   Married            611 non-null    object \n",
      " 3   Dependents         599 non-null    object \n",
      " 4   Education          614 non-null    object \n",
      " 5   Self_Employed      582 non-null    object \n",
      " 6   ApplicantIncome    614 non-null    int64  \n",
      " 7   CoapplicantIncome  614 non-null    float64\n",
      " 8   LoanAmount         592 non-null    float64\n",
      " 9   Loan_Amount_Term   600 non-null    float64\n",
      " 10  Credit_History     564 non-null    float64\n",
      " 11  Property_Area      614 non-null    object \n",
      " 12  Loan_Status        614 non-null    object \n",
      "dtypes: float64(4), int64(1), object(8)\n",
      "memory usage: 62.5+ KB\n"
     ]
    }
   ],
   "source": [
    "loan.info()"
   ]
  },
  {
   "cell_type": "code",
   "execution_count": 4,
   "metadata": {},
   "outputs": [
    {
     "data": {
      "text/html": [
       "<div>\n",
       "<style scoped>\n",
       "    .dataframe tbody tr th:only-of-type {\n",
       "        vertical-align: middle;\n",
       "    }\n",
       "\n",
       "    .dataframe tbody tr th {\n",
       "        vertical-align: top;\n",
       "    }\n",
       "\n",
       "    .dataframe thead th {\n",
       "        text-align: right;\n",
       "    }\n",
       "</style>\n",
       "<table border=\"1\" class=\"dataframe\">\n",
       "  <thead>\n",
       "    <tr style=\"text-align: right;\">\n",
       "      <th></th>\n",
       "      <th>ApplicantIncome</th>\n",
       "      <th>CoapplicantIncome</th>\n",
       "      <th>LoanAmount</th>\n",
       "      <th>Loan_Amount_Term</th>\n",
       "      <th>Credit_History</th>\n",
       "    </tr>\n",
       "  </thead>\n",
       "  <tbody>\n",
       "    <tr>\n",
       "      <th>count</th>\n",
       "      <td>614.000000</td>\n",
       "      <td>614.000000</td>\n",
       "      <td>592.000000</td>\n",
       "      <td>600.00000</td>\n",
       "      <td>564.000000</td>\n",
       "    </tr>\n",
       "    <tr>\n",
       "      <th>mean</th>\n",
       "      <td>5403.459283</td>\n",
       "      <td>1621.245798</td>\n",
       "      <td>146.412162</td>\n",
       "      <td>342.00000</td>\n",
       "      <td>0.842199</td>\n",
       "    </tr>\n",
       "    <tr>\n",
       "      <th>std</th>\n",
       "      <td>6109.041673</td>\n",
       "      <td>2926.248369</td>\n",
       "      <td>85.587325</td>\n",
       "      <td>65.12041</td>\n",
       "      <td>0.364878</td>\n",
       "    </tr>\n",
       "    <tr>\n",
       "      <th>min</th>\n",
       "      <td>150.000000</td>\n",
       "      <td>0.000000</td>\n",
       "      <td>9.000000</td>\n",
       "      <td>12.00000</td>\n",
       "      <td>0.000000</td>\n",
       "    </tr>\n",
       "    <tr>\n",
       "      <th>25%</th>\n",
       "      <td>2877.500000</td>\n",
       "      <td>0.000000</td>\n",
       "      <td>100.000000</td>\n",
       "      <td>360.00000</td>\n",
       "      <td>1.000000</td>\n",
       "    </tr>\n",
       "    <tr>\n",
       "      <th>50%</th>\n",
       "      <td>3812.500000</td>\n",
       "      <td>1188.500000</td>\n",
       "      <td>128.000000</td>\n",
       "      <td>360.00000</td>\n",
       "      <td>1.000000</td>\n",
       "    </tr>\n",
       "    <tr>\n",
       "      <th>75%</th>\n",
       "      <td>5795.000000</td>\n",
       "      <td>2297.250000</td>\n",
       "      <td>168.000000</td>\n",
       "      <td>360.00000</td>\n",
       "      <td>1.000000</td>\n",
       "    </tr>\n",
       "    <tr>\n",
       "      <th>max</th>\n",
       "      <td>81000.000000</td>\n",
       "      <td>41667.000000</td>\n",
       "      <td>700.000000</td>\n",
       "      <td>480.00000</td>\n",
       "      <td>1.000000</td>\n",
       "    </tr>\n",
       "  </tbody>\n",
       "</table>\n",
       "</div>"
      ],
      "text/plain": [
       "       ApplicantIncome  CoapplicantIncome  LoanAmount  Loan_Amount_Term  \\\n",
       "count       614.000000         614.000000  592.000000         600.00000   \n",
       "mean       5403.459283        1621.245798  146.412162         342.00000   \n",
       "std        6109.041673        2926.248369   85.587325          65.12041   \n",
       "min         150.000000           0.000000    9.000000          12.00000   \n",
       "25%        2877.500000           0.000000  100.000000         360.00000   \n",
       "50%        3812.500000        1188.500000  128.000000         360.00000   \n",
       "75%        5795.000000        2297.250000  168.000000         360.00000   \n",
       "max       81000.000000       41667.000000  700.000000         480.00000   \n",
       "\n",
       "       Credit_History  \n",
       "count      564.000000  \n",
       "mean         0.842199  \n",
       "std          0.364878  \n",
       "min          0.000000  \n",
       "25%          1.000000  \n",
       "50%          1.000000  \n",
       "75%          1.000000  \n",
       "max          1.000000  "
      ]
     },
     "execution_count": 4,
     "metadata": {},
     "output_type": "execute_result"
    }
   ],
   "source": [
    "loan.describe()"
   ]
  },
  {
   "cell_type": "code",
   "execution_count": 5,
   "metadata": {},
   "outputs": [
    {
     "data": {
      "text/html": [
       "<div>\n",
       "<style scoped>\n",
       "    .dataframe tbody tr th:only-of-type {\n",
       "        vertical-align: middle;\n",
       "    }\n",
       "\n",
       "    .dataframe tbody tr th {\n",
       "        vertical-align: top;\n",
       "    }\n",
       "\n",
       "    .dataframe thead th {\n",
       "        text-align: right;\n",
       "    }\n",
       "</style>\n",
       "<table border=\"1\" class=\"dataframe\">\n",
       "  <thead>\n",
       "    <tr style=\"text-align: right;\">\n",
       "      <th></th>\n",
       "      <th>Loan_ID</th>\n",
       "      <th>Gender</th>\n",
       "      <th>Married</th>\n",
       "      <th>Dependents</th>\n",
       "      <th>Education</th>\n",
       "      <th>Self_Employed</th>\n",
       "      <th>ApplicantIncome</th>\n",
       "      <th>CoapplicantIncome</th>\n",
       "      <th>LoanAmount</th>\n",
       "      <th>Loan_Amount_Term</th>\n",
       "      <th>Credit_History</th>\n",
       "      <th>Property_Area</th>\n",
       "      <th>Loan_Status</th>\n",
       "    </tr>\n",
       "  </thead>\n",
       "  <tbody>\n",
       "    <tr>\n",
       "      <th>0</th>\n",
       "      <td>LP001002</td>\n",
       "      <td>Male</td>\n",
       "      <td>No</td>\n",
       "      <td>0</td>\n",
       "      <td>Graduate</td>\n",
       "      <td>No</td>\n",
       "      <td>5849</td>\n",
       "      <td>0.0</td>\n",
       "      <td>NaN</td>\n",
       "      <td>360.0</td>\n",
       "      <td>1.0</td>\n",
       "      <td>Urban</td>\n",
       "      <td>Y</td>\n",
       "    </tr>\n",
       "    <tr>\n",
       "      <th>1</th>\n",
       "      <td>LP001003</td>\n",
       "      <td>Male</td>\n",
       "      <td>Yes</td>\n",
       "      <td>1</td>\n",
       "      <td>Graduate</td>\n",
       "      <td>No</td>\n",
       "      <td>4583</td>\n",
       "      <td>1508.0</td>\n",
       "      <td>128.0</td>\n",
       "      <td>360.0</td>\n",
       "      <td>1.0</td>\n",
       "      <td>Rural</td>\n",
       "      <td>N</td>\n",
       "    </tr>\n",
       "    <tr>\n",
       "      <th>2</th>\n",
       "      <td>LP001005</td>\n",
       "      <td>Male</td>\n",
       "      <td>Yes</td>\n",
       "      <td>0</td>\n",
       "      <td>Graduate</td>\n",
       "      <td>Yes</td>\n",
       "      <td>3000</td>\n",
       "      <td>0.0</td>\n",
       "      <td>66.0</td>\n",
       "      <td>360.0</td>\n",
       "      <td>1.0</td>\n",
       "      <td>Urban</td>\n",
       "      <td>Y</td>\n",
       "    </tr>\n",
       "    <tr>\n",
       "      <th>3</th>\n",
       "      <td>LP001006</td>\n",
       "      <td>Male</td>\n",
       "      <td>Yes</td>\n",
       "      <td>0</td>\n",
       "      <td>Not Graduate</td>\n",
       "      <td>No</td>\n",
       "      <td>2583</td>\n",
       "      <td>2358.0</td>\n",
       "      <td>120.0</td>\n",
       "      <td>360.0</td>\n",
       "      <td>1.0</td>\n",
       "      <td>Urban</td>\n",
       "      <td>Y</td>\n",
       "    </tr>\n",
       "    <tr>\n",
       "      <th>4</th>\n",
       "      <td>LP001008</td>\n",
       "      <td>Male</td>\n",
       "      <td>No</td>\n",
       "      <td>0</td>\n",
       "      <td>Graduate</td>\n",
       "      <td>No</td>\n",
       "      <td>6000</td>\n",
       "      <td>0.0</td>\n",
       "      <td>141.0</td>\n",
       "      <td>360.0</td>\n",
       "      <td>1.0</td>\n",
       "      <td>Urban</td>\n",
       "      <td>Y</td>\n",
       "    </tr>\n",
       "  </tbody>\n",
       "</table>\n",
       "</div>"
      ],
      "text/plain": [
       "    Loan_ID Gender Married Dependents     Education Self_Employed  \\\n",
       "0  LP001002   Male      No          0      Graduate            No   \n",
       "1  LP001003   Male     Yes          1      Graduate            No   \n",
       "2  LP001005   Male     Yes          0      Graduate           Yes   \n",
       "3  LP001006   Male     Yes          0  Not Graduate            No   \n",
       "4  LP001008   Male      No          0      Graduate            No   \n",
       "\n",
       "   ApplicantIncome  CoapplicantIncome  LoanAmount  Loan_Amount_Term  \\\n",
       "0             5849                0.0         NaN             360.0   \n",
       "1             4583             1508.0       128.0             360.0   \n",
       "2             3000                0.0        66.0             360.0   \n",
       "3             2583             2358.0       120.0             360.0   \n",
       "4             6000                0.0       141.0             360.0   \n",
       "\n",
       "   Credit_History Property_Area Loan_Status  \n",
       "0             1.0         Urban           Y  \n",
       "1             1.0         Rural           N  \n",
       "2             1.0         Urban           Y  \n",
       "3             1.0         Urban           Y  \n",
       "4             1.0         Urban           Y  "
      ]
     },
     "execution_count": 5,
     "metadata": {},
     "output_type": "execute_result"
    }
   ],
   "source": [
    "loan.head(5)"
   ]
  },
  {
   "cell_type": "code",
   "execution_count": 6,
   "metadata": {},
   "outputs": [
    {
     "data": {
      "text/plain": [
       "Loan_ID               object\n",
       "Gender                object\n",
       "Married               object\n",
       "Dependents            object\n",
       "Education             object\n",
       "Self_Employed         object\n",
       "ApplicantIncome        int64\n",
       "CoapplicantIncome    float64\n",
       "LoanAmount           float64\n",
       "Loan_Amount_Term     float64\n",
       "Credit_History       float64\n",
       "Property_Area         object\n",
       "Loan_Status           object\n",
       "dtype: object"
      ]
     },
     "execution_count": 6,
     "metadata": {},
     "output_type": "execute_result"
    }
   ],
   "source": [
    "loan.dtypes"
   ]
  },
  {
   "cell_type": "code",
   "execution_count": 7,
   "metadata": {},
   "outputs": [
    {
     "data": {
      "text/plain": [
       "(614, 13)"
      ]
     },
     "execution_count": 7,
     "metadata": {},
     "output_type": "execute_result"
    }
   ],
   "source": [
    "loan.shape"
   ]
  },
  {
   "cell_type": "markdown",
   "metadata": {},
   "source": [
    "### 1.b\tDiscuss different types of missing values with examples"
   ]
  },
  {
   "cell_type": "code",
   "execution_count": 8,
   "metadata": {},
   "outputs": [],
   "source": [
    "#find rows with at least one nan value\n",
    "\n",
    "rows_with_nan = loan[loan.isna().any(axis=1)]"
   ]
  },
  {
   "cell_type": "code",
   "execution_count": 9,
   "metadata": {},
   "outputs": [
    {
     "name": "stdout",
     "output_type": "stream",
     "text": [
      "<class 'pandas.core.frame.DataFrame'>\n",
      "Int64Index: 134 entries, 0 to 605\n",
      "Data columns (total 13 columns):\n",
      " #   Column             Non-Null Count  Dtype  \n",
      "---  ------             --------------  -----  \n",
      " 0   Loan_ID            134 non-null    object \n",
      " 1   Gender             121 non-null    object \n",
      " 2   Married            131 non-null    object \n",
      " 3   Dependents         119 non-null    object \n",
      " 4   Education          134 non-null    object \n",
      " 5   Self_Employed      102 non-null    object \n",
      " 6   ApplicantIncome    134 non-null    int64  \n",
      " 7   CoapplicantIncome  134 non-null    float64\n",
      " 8   LoanAmount         112 non-null    float64\n",
      " 9   Loan_Amount_Term   120 non-null    float64\n",
      " 10  Credit_History     84 non-null     float64\n",
      " 11  Property_Area      134 non-null    object \n",
      " 12  Loan_Status        134 non-null    object \n",
      "dtypes: float64(4), int64(1), object(8)\n",
      "memory usage: 14.7+ KB\n"
     ]
    }
   ],
   "source": [
    "rows_with_nan.info()\n"
   ]
  },
  {
   "cell_type": "code",
   "execution_count": 10,
   "metadata": {},
   "outputs": [],
   "source": [
    "#missing gender\n",
    "gender=rows_with_nan[rows_with_nan['Gender'].isnull()]"
   ]
  },
  {
   "cell_type": "code",
   "execution_count": 11,
   "metadata": {},
   "outputs": [
    {
     "data": {
      "text/html": [
       "<div>\n",
       "<style scoped>\n",
       "    .dataframe tbody tr th:only-of-type {\n",
       "        vertical-align: middle;\n",
       "    }\n",
       "\n",
       "    .dataframe tbody tr th {\n",
       "        vertical-align: top;\n",
       "    }\n",
       "\n",
       "    .dataframe thead th {\n",
       "        text-align: right;\n",
       "    }\n",
       "</style>\n",
       "<table border=\"1\" class=\"dataframe\">\n",
       "  <thead>\n",
       "    <tr style=\"text-align: right;\">\n",
       "      <th></th>\n",
       "      <th>Loan_ID</th>\n",
       "      <th>Gender</th>\n",
       "      <th>Married</th>\n",
       "      <th>Dependents</th>\n",
       "      <th>Education</th>\n",
       "      <th>Self_Employed</th>\n",
       "      <th>ApplicantIncome</th>\n",
       "      <th>CoapplicantIncome</th>\n",
       "      <th>LoanAmount</th>\n",
       "      <th>Loan_Amount_Term</th>\n",
       "      <th>Credit_History</th>\n",
       "      <th>Property_Area</th>\n",
       "      <th>Loan_Status</th>\n",
       "    </tr>\n",
       "  </thead>\n",
       "  <tbody>\n",
       "    <tr>\n",
       "      <th>23</th>\n",
       "      <td>LP001050</td>\n",
       "      <td>NaN</td>\n",
       "      <td>Yes</td>\n",
       "      <td>2</td>\n",
       "      <td>Not Graduate</td>\n",
       "      <td>No</td>\n",
       "      <td>3365</td>\n",
       "      <td>1917.0</td>\n",
       "      <td>112.0</td>\n",
       "      <td>360.0</td>\n",
       "      <td>0.0</td>\n",
       "      <td>Rural</td>\n",
       "      <td>N</td>\n",
       "    </tr>\n",
       "    <tr>\n",
       "      <th>126</th>\n",
       "      <td>LP001448</td>\n",
       "      <td>NaN</td>\n",
       "      <td>Yes</td>\n",
       "      <td>3+</td>\n",
       "      <td>Graduate</td>\n",
       "      <td>No</td>\n",
       "      <td>23803</td>\n",
       "      <td>0.0</td>\n",
       "      <td>370.0</td>\n",
       "      <td>360.0</td>\n",
       "      <td>1.0</td>\n",
       "      <td>Rural</td>\n",
       "      <td>Y</td>\n",
       "    </tr>\n",
       "    <tr>\n",
       "      <th>171</th>\n",
       "      <td>LP001585</td>\n",
       "      <td>NaN</td>\n",
       "      <td>Yes</td>\n",
       "      <td>3+</td>\n",
       "      <td>Graduate</td>\n",
       "      <td>No</td>\n",
       "      <td>51763</td>\n",
       "      <td>0.0</td>\n",
       "      <td>700.0</td>\n",
       "      <td>300.0</td>\n",
       "      <td>1.0</td>\n",
       "      <td>Urban</td>\n",
       "      <td>Y</td>\n",
       "    </tr>\n",
       "    <tr>\n",
       "      <th>188</th>\n",
       "      <td>LP001644</td>\n",
       "      <td>NaN</td>\n",
       "      <td>Yes</td>\n",
       "      <td>0</td>\n",
       "      <td>Graduate</td>\n",
       "      <td>Yes</td>\n",
       "      <td>674</td>\n",
       "      <td>5296.0</td>\n",
       "      <td>168.0</td>\n",
       "      <td>360.0</td>\n",
       "      <td>1.0</td>\n",
       "      <td>Rural</td>\n",
       "      <td>Y</td>\n",
       "    </tr>\n",
       "    <tr>\n",
       "      <th>314</th>\n",
       "      <td>LP002024</td>\n",
       "      <td>NaN</td>\n",
       "      <td>Yes</td>\n",
       "      <td>0</td>\n",
       "      <td>Graduate</td>\n",
       "      <td>No</td>\n",
       "      <td>2473</td>\n",
       "      <td>1843.0</td>\n",
       "      <td>159.0</td>\n",
       "      <td>360.0</td>\n",
       "      <td>1.0</td>\n",
       "      <td>Rural</td>\n",
       "      <td>N</td>\n",
       "    </tr>\n",
       "  </tbody>\n",
       "</table>\n",
       "</div>"
      ],
      "text/plain": [
       "      Loan_ID Gender Married Dependents     Education Self_Employed  \\\n",
       "23   LP001050    NaN     Yes          2  Not Graduate            No   \n",
       "126  LP001448    NaN     Yes         3+      Graduate            No   \n",
       "171  LP001585    NaN     Yes         3+      Graduate            No   \n",
       "188  LP001644    NaN     Yes          0      Graduate           Yes   \n",
       "314  LP002024    NaN     Yes          0      Graduate            No   \n",
       "\n",
       "     ApplicantIncome  CoapplicantIncome  LoanAmount  Loan_Amount_Term  \\\n",
       "23              3365             1917.0       112.0             360.0   \n",
       "126            23803                0.0       370.0             360.0   \n",
       "171            51763                0.0       700.0             300.0   \n",
       "188              674             5296.0       168.0             360.0   \n",
       "314             2473             1843.0       159.0             360.0   \n",
       "\n",
       "     Credit_History Property_Area Loan_Status  \n",
       "23              0.0         Rural           N  \n",
       "126             1.0         Rural           Y  \n",
       "171             1.0         Urban           Y  \n",
       "188             1.0         Rural           Y  \n",
       "314             1.0         Rural           N  "
      ]
     },
     "execution_count": 11,
     "metadata": {},
     "output_type": "execute_result"
    }
   ],
   "source": [
    "gender[:5]"
   ]
  },
  {
   "cell_type": "code",
   "execution_count": 12,
   "metadata": {},
   "outputs": [],
   "source": [
    "# missing loan amount\n",
    "\n",
    "loanamount=rows_with_nan[rows_with_nan['LoanAmount'].isnull()]"
   ]
  },
  {
   "cell_type": "code",
   "execution_count": 13,
   "metadata": {},
   "outputs": [
    {
     "data": {
      "text/html": [
       "<div>\n",
       "<style scoped>\n",
       "    .dataframe tbody tr th:only-of-type {\n",
       "        vertical-align: middle;\n",
       "    }\n",
       "\n",
       "    .dataframe tbody tr th {\n",
       "        vertical-align: top;\n",
       "    }\n",
       "\n",
       "    .dataframe thead th {\n",
       "        text-align: right;\n",
       "    }\n",
       "</style>\n",
       "<table border=\"1\" class=\"dataframe\">\n",
       "  <thead>\n",
       "    <tr style=\"text-align: right;\">\n",
       "      <th></th>\n",
       "      <th>Loan_ID</th>\n",
       "      <th>Gender</th>\n",
       "      <th>Married</th>\n",
       "      <th>Dependents</th>\n",
       "      <th>Education</th>\n",
       "      <th>Self_Employed</th>\n",
       "      <th>ApplicantIncome</th>\n",
       "      <th>CoapplicantIncome</th>\n",
       "      <th>LoanAmount</th>\n",
       "      <th>Loan_Amount_Term</th>\n",
       "      <th>Credit_History</th>\n",
       "      <th>Property_Area</th>\n",
       "      <th>Loan_Status</th>\n",
       "    </tr>\n",
       "  </thead>\n",
       "  <tbody>\n",
       "    <tr>\n",
       "      <th>0</th>\n",
       "      <td>LP001002</td>\n",
       "      <td>Male</td>\n",
       "      <td>No</td>\n",
       "      <td>0</td>\n",
       "      <td>Graduate</td>\n",
       "      <td>No</td>\n",
       "      <td>5849</td>\n",
       "      <td>0.0</td>\n",
       "      <td>NaN</td>\n",
       "      <td>360.0</td>\n",
       "      <td>1.0</td>\n",
       "      <td>Urban</td>\n",
       "      <td>Y</td>\n",
       "    </tr>\n",
       "    <tr>\n",
       "      <th>35</th>\n",
       "      <td>LP001106</td>\n",
       "      <td>Male</td>\n",
       "      <td>Yes</td>\n",
       "      <td>0</td>\n",
       "      <td>Graduate</td>\n",
       "      <td>No</td>\n",
       "      <td>2275</td>\n",
       "      <td>2067.0</td>\n",
       "      <td>NaN</td>\n",
       "      <td>360.0</td>\n",
       "      <td>1.0</td>\n",
       "      <td>Urban</td>\n",
       "      <td>Y</td>\n",
       "    </tr>\n",
       "    <tr>\n",
       "      <th>63</th>\n",
       "      <td>LP001213</td>\n",
       "      <td>Male</td>\n",
       "      <td>Yes</td>\n",
       "      <td>1</td>\n",
       "      <td>Graduate</td>\n",
       "      <td>No</td>\n",
       "      <td>4945</td>\n",
       "      <td>0.0</td>\n",
       "      <td>NaN</td>\n",
       "      <td>360.0</td>\n",
       "      <td>0.0</td>\n",
       "      <td>Rural</td>\n",
       "      <td>N</td>\n",
       "    </tr>\n",
       "    <tr>\n",
       "      <th>81</th>\n",
       "      <td>LP001266</td>\n",
       "      <td>Male</td>\n",
       "      <td>Yes</td>\n",
       "      <td>1</td>\n",
       "      <td>Graduate</td>\n",
       "      <td>Yes</td>\n",
       "      <td>2395</td>\n",
       "      <td>0.0</td>\n",
       "      <td>NaN</td>\n",
       "      <td>360.0</td>\n",
       "      <td>1.0</td>\n",
       "      <td>Semiurban</td>\n",
       "      <td>Y</td>\n",
       "    </tr>\n",
       "    <tr>\n",
       "      <th>95</th>\n",
       "      <td>LP001326</td>\n",
       "      <td>Male</td>\n",
       "      <td>No</td>\n",
       "      <td>0</td>\n",
       "      <td>Graduate</td>\n",
       "      <td>NaN</td>\n",
       "      <td>6782</td>\n",
       "      <td>0.0</td>\n",
       "      <td>NaN</td>\n",
       "      <td>360.0</td>\n",
       "      <td>NaN</td>\n",
       "      <td>Urban</td>\n",
       "      <td>N</td>\n",
       "    </tr>\n",
       "  </tbody>\n",
       "</table>\n",
       "</div>"
      ],
      "text/plain": [
       "     Loan_ID Gender Married Dependents Education Self_Employed  \\\n",
       "0   LP001002   Male      No          0  Graduate            No   \n",
       "35  LP001106   Male     Yes          0  Graduate            No   \n",
       "63  LP001213   Male     Yes          1  Graduate            No   \n",
       "81  LP001266   Male     Yes          1  Graduate           Yes   \n",
       "95  LP001326   Male      No          0  Graduate           NaN   \n",
       "\n",
       "    ApplicantIncome  CoapplicantIncome  LoanAmount  Loan_Amount_Term  \\\n",
       "0              5849                0.0         NaN             360.0   \n",
       "35             2275             2067.0         NaN             360.0   \n",
       "63             4945                0.0         NaN             360.0   \n",
       "81             2395                0.0         NaN             360.0   \n",
       "95             6782                0.0         NaN             360.0   \n",
       "\n",
       "    Credit_History Property_Area Loan_Status  \n",
       "0              1.0         Urban           Y  \n",
       "35             1.0         Urban           Y  \n",
       "63             0.0         Rural           N  \n",
       "81             1.0     Semiurban           Y  \n",
       "95             NaN         Urban           N  "
      ]
     },
     "execution_count": 13,
     "metadata": {},
     "output_type": "execute_result"
    }
   ],
   "source": [
    "loanamount[:5]"
   ]
  },
  {
   "cell_type": "markdown",
   "metadata": {},
   "source": [
    "### 1c.\tHow do you find missing values from a dataset ? Show the total number of missing values in the entire loan dataset\n",
    "\n",
    "In total, there are 134 rows of missing value in the dataset"
   ]
  },
  {
   "cell_type": "code",
   "execution_count": 14,
   "metadata": {},
   "outputs": [],
   "source": [
    "#find rows with at least one nan value\n",
    "\n",
    "rows_with_nan = loan[loan.isna().any(axis=1)]"
   ]
  },
  {
   "cell_type": "code",
   "execution_count": 15,
   "metadata": {},
   "outputs": [
    {
     "data": {
      "text/plain": [
       "(134, 13)"
      ]
     },
     "execution_count": 15,
     "metadata": {},
     "output_type": "execute_result"
    }
   ],
   "source": [
    "rows_with_nan.shape"
   ]
  },
  {
   "cell_type": "markdown",
   "metadata": {},
   "source": [
    "### 1d.\tHow do you handle missing data? Just mention the approach."
   ]
  },
  {
   "cell_type": "markdown",
   "metadata": {},
   "source": [
    "To handle the missing value, I have the following approaches:\n",
    "1. impute the mean or median value or the most common class for all missing values in a variable,\n",
    "2. create a new variable in to indicate whether the value is missing, nad plug in zero or mean in the actual variable.\n",
    "3. for each missing entry, randomly select an observed entry in the variable and plug in.\n",
    "4. plug in predicted values from a model based on other observed predictors.\n",
    "5. plug in predicted values plus randomness from a model based on the other observed predictors."
   ]
  },
  {
   "cell_type": "markdown",
   "metadata": {},
   "source": [
    "### 1e.\tNow apply different imputation techniques in the loan dataset and show the results.(you can use sci-kit learn or pandas library)"
   ]
  },
  {
   "cell_type": "markdown",
   "metadata": {},
   "source": [
    "#### impute the missing data with zero"
   ]
  },
  {
   "cell_type": "code",
   "execution_count": 40,
   "metadata": {},
   "outputs": [],
   "source": [
    "loan1=loan.copy()\n",
    "loan1.fillna(0, inplace=True)"
   ]
  },
  {
   "cell_type": "code",
   "execution_count": 52,
   "metadata": {},
   "outputs": [
    {
     "name": "stdout",
     "output_type": "stream",
     "text": [
      "<class 'pandas.core.frame.DataFrame'>\n",
      "RangeIndex: 614 entries, 0 to 613\n",
      "Data columns (total 13 columns):\n",
      " #   Column             Non-Null Count  Dtype  \n",
      "---  ------             --------------  -----  \n",
      " 0   Loan_ID            614 non-null    object \n",
      " 1   Gender             614 non-null    object \n",
      " 2   Married            614 non-null    object \n",
      " 3   Dependents         614 non-null    object \n",
      " 4   Education          614 non-null    object \n",
      " 5   Self_Employed      614 non-null    object \n",
      " 6   ApplicantIncome    614 non-null    int64  \n",
      " 7   CoapplicantIncome  614 non-null    float64\n",
      " 8   LoanAmount         614 non-null    float64\n",
      " 9   Loan_Amount_Term   614 non-null    float64\n",
      " 10  Credit_History     614 non-null    float64\n",
      " 11  Property_Area      614 non-null    object \n",
      " 12  Loan_Status        614 non-null    object \n",
      "dtypes: float64(4), int64(1), object(8)\n",
      "memory usage: 62.5+ KB\n"
     ]
    }
   ],
   "source": [
    "loan1.info()"
   ]
  },
  {
   "cell_type": "code",
   "execution_count": null,
   "metadata": {},
   "outputs": [],
   "source": []
  },
  {
   "cell_type": "markdown",
   "metadata": {},
   "source": [
    "#### impute misising data with KNN imputer for floating data and impute catogary data with the most frequent value for each column \n"
   ]
  },
  {
   "cell_type": "code",
   "execution_count": 78,
   "metadata": {},
   "outputs": [],
   "source": [
    "from sklearn.impute import KNNImputer\n",
    "\n",
    "loan2=loan.copy()\n",
    "# Create an instance of the KNNImputer\n",
    "imputer = KNNImputer(n_neighbors=5)\n",
    "\n",
    "# Select only the columns with float or int data type\n",
    "numeric_loan2 = loan2.select_dtypes(include=['float', 'int'])\n",
    "# Fit the imputer on the data and transform to impute missing values\n",
    "df_imputed = imputer.fit_transform(numeric_loan2)\n",
    "\n",
    "# Convert the result back to a DataFrame\n",
    "loan2 = pd.DataFrame(df_imputed, columns=numeric_loan2.columns)\n",
    "\n"
   ]
  },
  {
   "cell_type": "code",
   "execution_count": 79,
   "metadata": {},
   "outputs": [],
   "source": [
    "# Select only the columns without float or int data type\n",
    "non_numeric_loan2 = loan.drop(columns=numeric_loan2.columns)\n",
    "# Impute missing values with the mode of each column\n",
    "non_numeric_loan2.fillna(non_numeric_loan2.mode().iloc[0], inplace=True)\n",
    "\n",
    "# Combine DataFrames horizontally (side-by-side)\n",
    "df_combined = pd.concat([non_numeric_loan2, loan2], axis=1)"
   ]
  },
  {
   "cell_type": "code",
   "execution_count": 80,
   "metadata": {},
   "outputs": [
    {
     "name": "stdout",
     "output_type": "stream",
     "text": [
      "<class 'pandas.core.frame.DataFrame'>\n",
      "RangeIndex: 614 entries, 0 to 613\n",
      "Data columns (total 13 columns):\n",
      " #   Column             Non-Null Count  Dtype  \n",
      "---  ------             --------------  -----  \n",
      " 0   Loan_ID            614 non-null    object \n",
      " 1   Gender             614 non-null    object \n",
      " 2   Married            614 non-null    object \n",
      " 3   Dependents         614 non-null    object \n",
      " 4   Education          614 non-null    object \n",
      " 5   Self_Employed      614 non-null    object \n",
      " 6   Property_Area      614 non-null    object \n",
      " 7   Loan_Status        614 non-null    object \n",
      " 8   ApplicantIncome    614 non-null    float64\n",
      " 9   CoapplicantIncome  614 non-null    float64\n",
      " 10  LoanAmount         614 non-null    float64\n",
      " 11  Loan_Amount_Term   614 non-null    float64\n",
      " 12  Credit_History     614 non-null    float64\n",
      "dtypes: float64(5), object(8)\n",
      "memory usage: 62.5+ KB\n"
     ]
    }
   ],
   "source": [
    "df_combined.info()\n"
   ]
  },
  {
   "cell_type": "code",
   "execution_count": null,
   "metadata": {},
   "outputs": [],
   "source": []
  },
  {
   "cell_type": "markdown",
   "metadata": {},
   "source": [
    "## 2 When does a model become unidentifiable ? How do you handle such a model ?"
   ]
  },
  {
   "cell_type": "markdown",
   "metadata": {},
   "source": [
    "when the model is unidentifiable, it is mainly because that the parameters or variables are more than the observations. so I don't have enough information to esitmate the parameter.\n",
    "\n",
    "to tackle this problem, I need to\n",
    "1) increase the number of observations\n",
    "\n",
    "2) consider only important parameters,\n",
    "\n",
    "3) perform dimension reduction techniques, such as using PCA to reduce the number of parameters and select important parameters."
   ]
  },
  {
   "cell_type": "markdown",
   "metadata": {},
   "source": [
    "## 3. Consider the following dataset having 2 variables x1 and x2. Calculate the principal components of the dataset using numerical approach. \n"
   ]
  },
  {
   "cell_type": "code",
   "execution_count": 195,
   "metadata": {},
   "outputs": [],
   "source": [
    "#first calculate the mean of x1 and x2\n",
    "x1=[2.8,0.8,1.5,3,2.2,1.1,2]\n",
    "x2=[2.7,0.7,1.3,3.3,1.9,0.8,1.7]"
   ]
  },
  {
   "cell_type": "code",
   "execution_count": 196,
   "metadata": {},
   "outputs": [
    {
     "data": {
      "text/plain": [
       "1.9142857142857144"
      ]
     },
     "execution_count": 196,
     "metadata": {},
     "output_type": "execute_result"
    }
   ],
   "source": [
    "np.mean(x1)"
   ]
  },
  {
   "cell_type": "code",
   "execution_count": 197,
   "metadata": {},
   "outputs": [
    {
     "data": {
      "text/plain": [
       "1.7714285714285716"
      ]
     },
     "execution_count": 197,
     "metadata": {},
     "output_type": "execute_result"
    }
   ],
   "source": [
    "np.mean(x2)"
   ]
  },
  {
   "cell_type": "code",
   "execution_count": 198,
   "metadata": {},
   "outputs": [],
   "source": [
    "#second, subtract the mean \n",
    "x1_minus_mean_list=[]\n",
    "x2_minus_mean_list=[]\n",
    "for i in x1:\n",
    "    i_minus_mean=i-np.mean(x1)\n",
    "    x1_minus_mean_list.append(i_minus_mean)\n",
    "\n",
    "for j in x2:\n",
    "    j_minus_mean=j-np.mean(x2)\n",
    "    x2_minus_mean_list.append(j_minus_mean)\n",
    "\n"
   ]
  },
  {
   "cell_type": "code",
   "execution_count": 199,
   "metadata": {},
   "outputs": [
    {
     "data": {
      "text/plain": [
       "[0.8857142857142855,\n",
       " -1.1142857142857143,\n",
       " -0.41428571428571437,\n",
       " 1.0857142857142856,\n",
       " 0.2857142857142858,\n",
       " -0.8142857142857143,\n",
       " 0.08571428571428563]"
      ]
     },
     "execution_count": 199,
     "metadata": {},
     "output_type": "execute_result"
    }
   ],
   "source": [
    "x1_minus_mean_list"
   ]
  },
  {
   "cell_type": "code",
   "execution_count": 200,
   "metadata": {},
   "outputs": [
    {
     "data": {
      "text/plain": [
       "[0.9285714285714286,\n",
       " -1.0714285714285716,\n",
       " -0.47142857142857153,\n",
       " 1.5285714285714282,\n",
       " 0.12857142857142834,\n",
       " -0.9714285714285715,\n",
       " -0.07142857142857162]"
      ]
     },
     "execution_count": 200,
     "metadata": {},
     "output_type": "execute_result"
    }
   ],
   "source": [
    "x2_minus_mean_list"
   ]
  },
  {
   "cell_type": "code",
   "execution_count": 201,
   "metadata": {},
   "outputs": [
    {
     "data": {
      "text/plain": [
       "array([[ 0.88571429, -1.11428571, -0.41428571,  1.08571429,  0.28571429,\n",
       "        -0.81428571,  0.08571429],\n",
       "       [ 0.92857143, -1.07142857, -0.47142857,  1.52857143,  0.12857143,\n",
       "        -0.97142857, -0.07142857]])"
      ]
     },
     "execution_count": 201,
     "metadata": {},
     "output_type": "execute_result"
    }
   ],
   "source": [
    "#third, calcuate the covariance matrix for the x1 and x2\n",
    "\n",
    "data=np.array([x1_minus_mean_list,x2_minus_mean_list])\n",
    "data"
   ]
  },
  {
   "cell_type": "code",
   "execution_count": 202,
   "metadata": {},
   "outputs": [],
   "source": [
    "covariance_matrix = np.cov(data)"
   ]
  },
  {
   "cell_type": "code",
   "execution_count": 203,
   "metadata": {},
   "outputs": [
    {
     "data": {
      "text/plain": [
       "array([[0.68809524, 0.78214286],\n",
       "       [0.78214286, 0.92238095]])"
      ]
     },
     "execution_count": 203,
     "metadata": {},
     "output_type": "execute_result"
    }
   ],
   "source": [
    "covariance_matrix"
   ]
  },
  {
   "cell_type": "code",
   "execution_count": 97,
   "metadata": {},
   "outputs": [
    {
     "name": "stdout",
     "output_type": "stream",
     "text": [
      "Eigenvectors: [[-0.75766735 -0.65264093]\n",
      " [ 0.65264093 -0.75766735]]\n",
      "Eigenvalues: [0.01437155 1.59610464]\n"
     ]
    }
   ],
   "source": [
    "# Find the eigenvalues and eigenvectors\n",
    "eigenvalues, eigenvectors = np.linalg.eig(covariance_matrix)\n",
    "\n",
    "# The eigenvectors are stored in the columns of the eigenvectors array\n",
    "print(\"Eigenvectors:\",eigenvectors)\n",
    "\n",
    "\n",
    "# The eigenvalues are stored in the eigenvalues array\n",
    "print(\"Eigenvalues:\",eigenvalues)"
   ]
  },
  {
   "cell_type": "code",
   "execution_count": 102,
   "metadata": {},
   "outputs": [
    {
     "data": {
      "text/plain": [
       "array([[-0.75766735, -0.65264093],\n",
       "       [ 0.65264093, -0.75766735]])"
      ]
     },
     "execution_count": 102,
     "metadata": {},
     "output_type": "execute_result"
    }
   ],
   "source": [
    "# we can see the second Eigenvalues is larger, so the first principal component is the second Eigenvalues: 1.596\n",
    "#the seconed principal component is the first Eigenvalues: 0.014\n",
    "eigenvectors\n"
   ]
  },
  {
   "cell_type": "code",
   "execution_count": 189,
   "metadata": {},
   "outputs": [],
   "source": [
    "#reversed_eigenvectors = np.array(eigenvectors)[::-1]\n",
    "\n",
    "reversed_eigenvectors = eigenvectors[:, np.flip(np.argsort(eigenvalues))]"
   ]
  },
  {
   "cell_type": "code",
   "execution_count": 190,
   "metadata": {},
   "outputs": [
    {
     "data": {
      "text/plain": [
       "array([[-0.65264093, -0.75766735],\n",
       "       [-0.75766735,  0.65264093]])"
      ]
     },
     "execution_count": 190,
     "metadata": {},
     "output_type": "execute_result"
    }
   ],
   "source": [
    "reversed_eigenvectors"
   ]
  },
  {
   "cell_type": "code",
   "execution_count": 188,
   "metadata": {},
   "outputs": [
    {
     "data": {
      "text/plain": [
       "array([[ 0.65264093, -0.75766735],\n",
       "       [ 0.75766735,  0.65264093]])"
      ]
     },
     "execution_count": 188,
     "metadata": {},
     "output_type": "execute_result"
    }
   ],
   "source": [
    "pca.components_.T"
   ]
  },
  {
   "cell_type": "code",
   "execution_count": 181,
   "metadata": {},
   "outputs": [
    {
     "data": {
      "text/plain": [
       "array([0.01437155, 1.59610464])"
      ]
     },
     "execution_count": 181,
     "metadata": {},
     "output_type": "execute_result"
    }
   ],
   "source": [
    "eigenvalues"
   ]
  },
  {
   "cell_type": "code",
   "execution_count": 183,
   "metadata": {},
   "outputs": [
    {
     "data": {
      "text/plain": [
       "array([1.59610464, 0.01437155])"
      ]
     },
     "execution_count": 183,
     "metadata": {},
     "output_type": "execute_result"
    }
   ],
   "source": [
    "pca.explained_variance_"
   ]
  },
  {
   "cell_type": "code",
   "execution_count": 191,
   "metadata": {},
   "outputs": [],
   "source": [
    "#apply matrix multiplication\n",
    "\n",
    "data_transpose=data.transpose()\n"
   ]
  },
  {
   "cell_type": "code",
   "execution_count": 192,
   "metadata": {},
   "outputs": [
    {
     "data": {
      "text/plain": [
       "array([[-1.28160165e+00, -6.50530721e-02],\n",
       "       [ 1.53901491e+00,  1.44999762e-01],\n",
       "       [ 6.27565851e-01,  6.21717656e-03],\n",
       "       [-1.86673025e+00,  1.74998018e-01],\n",
       "       [-2.83883211e-01, -1.32565409e-01],\n",
       "       [ 1.26745590e+00, -1.70363500e-02],\n",
       "       [-1.82155498e-03, -1.11560125e-01]])"
      ]
     },
     "execution_count": 192,
     "metadata": {},
     "output_type": "execute_result"
    }
   ],
   "source": [
    "z=np.dot(data_transpose,reversed_eigenvectors)\n",
    "z"
   ]
  },
  {
   "cell_type": "code",
   "execution_count": 193,
   "metadata": {},
   "outputs": [],
   "source": [
    "#use the package to double check the results\n",
    "import numpy as np\n",
    "from sklearn.decomposition import PCA\n",
    "X=np.array([x1,x2]).transpose()\n",
    "pca=PCA().fit(X)\n",
    "pcax=pca.transform(X)\n",
    "\n",
    "pcax_df=pd.DataFrame(pcax,columns=['1','2'])"
   ]
  },
  {
   "cell_type": "code",
   "execution_count": 194,
   "metadata": {},
   "outputs": [
    {
     "data": {
      "text/plain": [
       "array([[ 1.28160165e+00, -6.50530721e-02],\n",
       "       [-1.53901491e+00,  1.44999762e-01],\n",
       "       [-6.27565851e-01,  6.21717656e-03],\n",
       "       [ 1.86673025e+00,  1.74998018e-01],\n",
       "       [ 2.83883211e-01, -1.32565409e-01],\n",
       "       [-1.26745590e+00, -1.70363500e-02],\n",
       "       [ 1.82155498e-03, -1.11560125e-01]])"
      ]
     },
     "execution_count": 194,
     "metadata": {},
     "output_type": "execute_result"
    }
   ],
   "source": [
    "pcax"
   ]
  },
  {
   "cell_type": "markdown",
   "metadata": {},
   "source": [
    "## 4.  Find a dataset of 1 million records with 10 features to do PCA"
   ]
  },
  {
   "cell_type": "markdown",
   "metadata": {},
   "source": [
    "### dataset link\n",
    "\n",
    "https://www.kaggle.com/datasets/wenruliu/adult-income-dataset"
   ]
  },
  {
   "cell_type": "markdown",
   "metadata": {},
   "source": [
    "### Python code with the above-described functionality\n",
    "\n",
    "The task is to identify the top 10 features that have the highest correlation with the target variable. Implement a solution using a combination of Python pandas and the sci-kit-learn library. The solution should be able to handle the large scale of the data and use dimensionality reduction techniques such as PCA or Lasso to reduce the number of features and select the most relevant features."
   ]
  },
  {
   "cell_type": "code",
   "execution_count": 14,
   "metadata": {},
   "outputs": [],
   "source": [
    "adult=pd.read_csv('/Users/yoga/Dropbox/0 FSU/5_2023_spring/3 CAP intro to data science/assignment/Introduction to Data Science assignment1/adult.csv')"
   ]
  },
  {
   "cell_type": "code",
   "execution_count": 27,
   "metadata": {},
   "outputs": [
    {
     "name": "stdout",
     "output_type": "stream",
     "text": [
      "<class 'pandas.core.frame.DataFrame'>\n",
      "RangeIndex: 48842 entries, 0 to 48841\n",
      "Data columns (total 15 columns):\n",
      " #   Column           Non-Null Count  Dtype \n",
      "---  ------           --------------  ----- \n",
      " 0   age              48842 non-null  int64 \n",
      " 1   workclass        48842 non-null  object\n",
      " 2   fnlwgt           48842 non-null  int64 \n",
      " 3   education        48842 non-null  object\n",
      " 4   educational-num  48842 non-null  int64 \n",
      " 5   marital-status   48842 non-null  object\n",
      " 6   occupation       48842 non-null  object\n",
      " 7   relationship     48842 non-null  object\n",
      " 8   race             48842 non-null  object\n",
      " 9   gender           48842 non-null  object\n",
      " 10  capital-gain     48842 non-null  int64 \n",
      " 11  capital-loss     48842 non-null  int64 \n",
      " 12  hours-per-week   48842 non-null  int64 \n",
      " 13  native-country   48842 non-null  object\n",
      " 14  income           48842 non-null  object\n",
      "dtypes: int64(6), object(9)\n",
      "memory usage: 5.6+ MB\n"
     ]
    }
   ],
   "source": [
    "adult.info()"
   ]
  },
  {
   "cell_type": "code",
   "execution_count": 16,
   "metadata": {},
   "outputs": [],
   "source": [
    "adult_columns=adult.columns.tolist()"
   ]
  },
  {
   "cell_type": "code",
   "execution_count": 23,
   "metadata": {},
   "outputs": [
    {
     "data": {
      "text/plain": [
       "['age',\n",
       " 'workclass',\n",
       " 'fnlwgt',\n",
       " 'education',\n",
       " 'educational-num',\n",
       " 'marital-status',\n",
       " 'occupation',\n",
       " 'relationship',\n",
       " 'race',\n",
       " 'gender',\n",
       " 'capital-gain',\n",
       " 'capital-loss',\n",
       " 'hours-per-week',\n",
       " 'native-country',\n",
       " 'income']"
      ]
     },
     "execution_count": 23,
     "metadata": {},
     "output_type": "execute_result"
    }
   ],
   "source": [
    "adult_columns"
   ]
  },
  {
   "cell_type": "code",
   "execution_count": 28,
   "metadata": {},
   "outputs": [],
   "source": [
    "catogarical_columns=['workclass','education','marital-status','occupation',\n",
    "                    'relationship','race','gender','native-country','income']"
   ]
  },
  {
   "cell_type": "code",
   "execution_count": 30,
   "metadata": {},
   "outputs": [],
   "source": [
    "#lable encoder for catogarical variables\n",
    "\n",
    "encoded_adult=adult.copy()\n",
    "\n",
    "for col in catogarical_columns:\n",
    "    data = adult[col]\n",
    "    \n",
    "    # create LabelEncoder object\n",
    "    le = LabelEncoder()\n",
    "    \n",
    "    # fit and transform the data\n",
    "    encoded_data = le.fit_transform(data)\n",
    "    \n",
    "    encoded_adult[col]=encoded_data\n",
    "    "
   ]
  },
  {
   "cell_type": "code",
   "execution_count": 35,
   "metadata": {},
   "outputs": [
    {
     "data": {
      "text/html": [
       "<div>\n",
       "<style scoped>\n",
       "    .dataframe tbody tr th:only-of-type {\n",
       "        vertical-align: middle;\n",
       "    }\n",
       "\n",
       "    .dataframe tbody tr th {\n",
       "        vertical-align: top;\n",
       "    }\n",
       "\n",
       "    .dataframe thead th {\n",
       "        text-align: right;\n",
       "    }\n",
       "</style>\n",
       "<table border=\"1\" class=\"dataframe\">\n",
       "  <thead>\n",
       "    <tr style=\"text-align: right;\">\n",
       "      <th></th>\n",
       "      <th>age</th>\n",
       "      <th>workclass</th>\n",
       "      <th>fnlwgt</th>\n",
       "      <th>education</th>\n",
       "      <th>educational-num</th>\n",
       "      <th>marital-status</th>\n",
       "      <th>occupation</th>\n",
       "      <th>relationship</th>\n",
       "      <th>race</th>\n",
       "      <th>gender</th>\n",
       "      <th>capital-gain</th>\n",
       "      <th>capital-loss</th>\n",
       "      <th>hours-per-week</th>\n",
       "      <th>native-country</th>\n",
       "      <th>income</th>\n",
       "    </tr>\n",
       "  </thead>\n",
       "  <tbody>\n",
       "    <tr>\n",
       "      <th>0</th>\n",
       "      <td>25</td>\n",
       "      <td>4</td>\n",
       "      <td>226802</td>\n",
       "      <td>1</td>\n",
       "      <td>7</td>\n",
       "      <td>4</td>\n",
       "      <td>7</td>\n",
       "      <td>3</td>\n",
       "      <td>2</td>\n",
       "      <td>1</td>\n",
       "      <td>0</td>\n",
       "      <td>0</td>\n",
       "      <td>40</td>\n",
       "      <td>39</td>\n",
       "      <td>0</td>\n",
       "    </tr>\n",
       "    <tr>\n",
       "      <th>1</th>\n",
       "      <td>38</td>\n",
       "      <td>4</td>\n",
       "      <td>89814</td>\n",
       "      <td>11</td>\n",
       "      <td>9</td>\n",
       "      <td>2</td>\n",
       "      <td>5</td>\n",
       "      <td>0</td>\n",
       "      <td>4</td>\n",
       "      <td>1</td>\n",
       "      <td>0</td>\n",
       "      <td>0</td>\n",
       "      <td>50</td>\n",
       "      <td>39</td>\n",
       "      <td>0</td>\n",
       "    </tr>\n",
       "    <tr>\n",
       "      <th>2</th>\n",
       "      <td>28</td>\n",
       "      <td>2</td>\n",
       "      <td>336951</td>\n",
       "      <td>7</td>\n",
       "      <td>12</td>\n",
       "      <td>2</td>\n",
       "      <td>11</td>\n",
       "      <td>0</td>\n",
       "      <td>4</td>\n",
       "      <td>1</td>\n",
       "      <td>0</td>\n",
       "      <td>0</td>\n",
       "      <td>40</td>\n",
       "      <td>39</td>\n",
       "      <td>1</td>\n",
       "    </tr>\n",
       "  </tbody>\n",
       "</table>\n",
       "</div>"
      ],
      "text/plain": [
       "   age  workclass  fnlwgt  education  educational-num  marital-status  \\\n",
       "0   25          4  226802          1                7               4   \n",
       "1   38          4   89814         11                9               2   \n",
       "2   28          2  336951          7               12               2   \n",
       "\n",
       "   occupation  relationship  race  gender  capital-gain  capital-loss  \\\n",
       "0           7             3     2       1             0             0   \n",
       "1           5             0     4       1             0             0   \n",
       "2          11             0     4       1             0             0   \n",
       "\n",
       "   hours-per-week  native-country  income  \n",
       "0              40              39       0  \n",
       "1              50              39       0  \n",
       "2              40              39       1  "
      ]
     },
     "execution_count": 35,
     "metadata": {},
     "output_type": "execute_result"
    }
   ],
   "source": [
    "encoded_adult[:3]"
   ]
  },
  {
   "cell_type": "code",
   "execution_count": 42,
   "metadata": {},
   "outputs": [],
   "source": [
    "# feature=encoded_adult[encoded_adult.columns.tolist()[:-1]]\n"
   ]
  },
  {
   "cell_type": "code",
   "execution_count": 47,
   "metadata": {},
   "outputs": [],
   "source": [
    "column_name=encoded_adult.columns.tolist()\n",
    "column_name.remove('income')\n",
    "\n",
    "feature=encoded_adult[column_name]"
   ]
  },
  {
   "cell_type": "code",
   "execution_count": 55,
   "metadata": {},
   "outputs": [
    {
     "data": {
      "text/html": [
       "<div>\n",
       "<style scoped>\n",
       "    .dataframe tbody tr th:only-of-type {\n",
       "        vertical-align: middle;\n",
       "    }\n",
       "\n",
       "    .dataframe tbody tr th {\n",
       "        vertical-align: top;\n",
       "    }\n",
       "\n",
       "    .dataframe thead th {\n",
       "        text-align: right;\n",
       "    }\n",
       "</style>\n",
       "<table border=\"1\" class=\"dataframe\">\n",
       "  <thead>\n",
       "    <tr style=\"text-align: right;\">\n",
       "      <th></th>\n",
       "      <th>age</th>\n",
       "      <th>workclass</th>\n",
       "      <th>fnlwgt</th>\n",
       "      <th>education</th>\n",
       "      <th>educational-num</th>\n",
       "      <th>marital-status</th>\n",
       "      <th>occupation</th>\n",
       "      <th>relationship</th>\n",
       "      <th>race</th>\n",
       "      <th>gender</th>\n",
       "      <th>capital-gain</th>\n",
       "      <th>capital-loss</th>\n",
       "      <th>hours-per-week</th>\n",
       "      <th>native-country</th>\n",
       "    </tr>\n",
       "  </thead>\n",
       "  <tbody>\n",
       "    <tr>\n",
       "      <th>0</th>\n",
       "      <td>25</td>\n",
       "      <td>4</td>\n",
       "      <td>226802</td>\n",
       "      <td>1</td>\n",
       "      <td>7</td>\n",
       "      <td>4</td>\n",
       "      <td>7</td>\n",
       "      <td>3</td>\n",
       "      <td>2</td>\n",
       "      <td>1</td>\n",
       "      <td>0</td>\n",
       "      <td>0</td>\n",
       "      <td>40</td>\n",
       "      <td>39</td>\n",
       "    </tr>\n",
       "  </tbody>\n",
       "</table>\n",
       "</div>"
      ],
      "text/plain": [
       "   age  workclass  fnlwgt  education  educational-num  marital-status  \\\n",
       "0   25          4  226802          1                7               4   \n",
       "\n",
       "   occupation  relationship  race  gender  capital-gain  capital-loss  \\\n",
       "0           7             3     2       1             0             0   \n",
       "\n",
       "   hours-per-week  native-country  \n",
       "0              40              39  "
      ]
     },
     "execution_count": 55,
     "metadata": {},
     "output_type": "execute_result"
    }
   ],
   "source": [
    "feature[:1]"
   ]
  },
  {
   "cell_type": "code",
   "execution_count": 66,
   "metadata": {},
   "outputs": [
    {
     "data": {
      "text/html": [
       "<div>\n",
       "<style scoped>\n",
       "    .dataframe tbody tr th:only-of-type {\n",
       "        vertical-align: middle;\n",
       "    }\n",
       "\n",
       "    .dataframe tbody tr th {\n",
       "        vertical-align: top;\n",
       "    }\n",
       "\n",
       "    .dataframe thead th {\n",
       "        text-align: right;\n",
       "    }\n",
       "</style>\n",
       "<table border=\"1\" class=\"dataframe\">\n",
       "  <thead>\n",
       "    <tr style=\"text-align: right;\">\n",
       "      <th></th>\n",
       "      <th>age</th>\n",
       "      <th>workclass</th>\n",
       "      <th>fnlwgt</th>\n",
       "      <th>education</th>\n",
       "      <th>educational-num</th>\n",
       "      <th>marital-status</th>\n",
       "      <th>occupation</th>\n",
       "      <th>relationship</th>\n",
       "      <th>race</th>\n",
       "      <th>gender</th>\n",
       "      <th>capital-gain</th>\n",
       "      <th>capital-loss</th>\n",
       "      <th>hours-per-week</th>\n",
       "      <th>native-country</th>\n",
       "      <th>income</th>\n",
       "    </tr>\n",
       "  </thead>\n",
       "  <tbody>\n",
       "    <tr>\n",
       "      <th>0</th>\n",
       "      <td>25</td>\n",
       "      <td>4</td>\n",
       "      <td>226802</td>\n",
       "      <td>1</td>\n",
       "      <td>7</td>\n",
       "      <td>4</td>\n",
       "      <td>7</td>\n",
       "      <td>3</td>\n",
       "      <td>2</td>\n",
       "      <td>1</td>\n",
       "      <td>0</td>\n",
       "      <td>0</td>\n",
       "      <td>40</td>\n",
       "      <td>39</td>\n",
       "      <td>0</td>\n",
       "    </tr>\n",
       "  </tbody>\n",
       "</table>\n",
       "</div>"
      ],
      "text/plain": [
       "   age  workclass  fnlwgt  education  educational-num  marital-status  \\\n",
       "0   25          4  226802          1                7               4   \n",
       "\n",
       "   occupation  relationship  race  gender  capital-gain  capital-loss  \\\n",
       "0           7             3     2       1             0             0   \n",
       "\n",
       "   hours-per-week  native-country  income  \n",
       "0              40              39       0  "
      ]
     },
     "execution_count": 66,
     "metadata": {},
     "output_type": "execute_result"
    }
   ],
   "source": [
    "encoded_adult[:1]"
   ]
  },
  {
   "cell_type": "code",
   "execution_count": 67,
   "metadata": {},
   "outputs": [],
   "source": [
    "x1=encoded_adult.iloc[:,1]"
   ]
  },
  {
   "cell_type": "code",
   "execution_count": 69,
   "metadata": {},
   "outputs": [
    {
     "data": {
      "text/plain": [
       "0        4\n",
       "1        4\n",
       "2        2\n",
       "3        4\n",
       "4        0\n",
       "        ..\n",
       "48837    4\n",
       "48838    4\n",
       "48839    4\n",
       "48840    4\n",
       "48841    5\n",
       "Name: workclass, Length: 48842, dtype: int64"
      ]
     },
     "execution_count": 69,
     "metadata": {},
     "output_type": "execute_result"
    }
   ],
   "source": [
    "x1"
   ]
  },
  {
   "cell_type": "code",
   "execution_count": 76,
   "metadata": {},
   "outputs": [
    {
     "data": {
      "text/plain": [
       "0.01220995617575291"
      ]
     },
     "execution_count": 76,
     "metadata": {},
     "output_type": "execute_result"
    }
   ],
   "source": [
    "np.corrcoef(x1.T, y)[0,1]"
   ]
  },
  {
   "cell_type": "code",
   "execution_count": 77,
   "metadata": {},
   "outputs": [
    {
     "data": {
      "text/plain": [
       "15"
      ]
     },
     "execution_count": 77,
     "metadata": {},
     "output_type": "execute_result"
    }
   ],
   "source": [
    "len(encoded_adult.columns)"
   ]
  },
  {
   "cell_type": "code",
   "execution_count": 79,
   "metadata": {},
   "outputs": [
    {
     "data": {
      "text/plain": [
       "'age'"
      ]
     },
     "execution_count": 79,
     "metadata": {},
     "output_type": "execute_result"
    }
   ],
   "source": [
    "encoded_adult.columns[0]"
   ]
  },
  {
   "cell_type": "code",
   "execution_count": 81,
   "metadata": {},
   "outputs": [],
   "source": [
    "name2correlation={}\n",
    "\n",
    "for number in range(len(encoded_adult.columns)-1):\n",
    "    name=encoded_adult.columns[number]\n",
    "    x1=encoded_adult.iloc[:,number]\n",
    "    y=encoded_adult.iloc[:,-1]\n",
    "    correlation = np.corrcoef(x1.T, y)[0,1]\n",
    "    name2correlation[name]=correlation\n",
    "    \n",
    "#sort dictionary by value from large to small\n",
    "\n",
    "sorted_name2correlation = dict(sorted(name2correlation.items(), key=lambda item: item[1], reverse=True))\n",
    "\n",
    "    \n",
    "    \n",
    "    \n",
    "    "
   ]
  },
  {
   "cell_type": "code",
   "execution_count": 85,
   "metadata": {},
   "outputs": [
    {
     "data": {
      "text/plain": [
       "{'educational-num': 0.3326131306661438,\n",
       " 'age': 0.23036946784752088,\n",
       " 'hours-per-week': 0.2276867605608114,\n",
       " 'capital-gain': 0.22301302085823896,\n",
       " 'gender': 0.21462803456392812,\n",
       " 'capital-loss': 0.14755448819939293,\n",
       " 'education': 0.08009052561043628,\n",
       " 'occupation': 0.07672172313123109,\n",
       " 'race': 0.07093428896932867,\n",
       " 'workclass': 0.05267409354974377,\n",
       " 'native-country': 0.01220995617575291,\n",
       " 'fnlwgt': -0.006338859530113214,\n",
       " 'marital-status': -0.19907178401671688,\n",
       " 'relationship': -0.2532136290655046}"
      ]
     },
     "execution_count": 85,
     "metadata": {},
     "output_type": "execute_result"
    }
   ],
   "source": [
    "sorted_name2correlation\n",
    "\n",
    "#from the correlation in the dictionary, we can see that\n",
    "# the top ten variable that has the largest correlation with the dependent variable (i.e., income)\n",
    "\n"
   ]
  },
  {
   "cell_type": "code",
   "execution_count": 86,
   "metadata": {},
   "outputs": [],
   "source": [
    "#next using pca to run feature reduction\n",
    "\n",
    "import numpy as np\n",
    "from sklearn.decomposition import PCA\n",
    "\n",
    "# initialize the PCA model\n",
    "pca = PCA(n_components=10)\n",
    "\n",
    "# fit the PCA model to the data\n",
    "pca.fit(feature)\n",
    "\n",
    "# transform the data into the first 10 principal components\n",
    "transformed_data = pca.transform(feature)\n",
    "\n",
    "\n",
    "\n"
   ]
  },
  {
   "cell_type": "code",
   "execution_count": 87,
   "metadata": {},
   "outputs": [
    {
     "data": {
      "text/html": [
       "<div>\n",
       "<style scoped>\n",
       "    .dataframe tbody tr th:only-of-type {\n",
       "        vertical-align: middle;\n",
       "    }\n",
       "\n",
       "    .dataframe tbody tr th {\n",
       "        vertical-align: top;\n",
       "    }\n",
       "\n",
       "    .dataframe thead th {\n",
       "        text-align: right;\n",
       "    }\n",
       "</style>\n",
       "<table border=\"1\" class=\"dataframe\">\n",
       "  <thead>\n",
       "    <tr style=\"text-align: right;\">\n",
       "      <th></th>\n",
       "      <th>0</th>\n",
       "      <th>1</th>\n",
       "      <th>2</th>\n",
       "      <th>3</th>\n",
       "      <th>4</th>\n",
       "      <th>5</th>\n",
       "      <th>6</th>\n",
       "      <th>7</th>\n",
       "      <th>8</th>\n",
       "      <th>9</th>\n",
       "    </tr>\n",
       "  </thead>\n",
       "  <tbody>\n",
       "    <tr>\n",
       "      <th>0</th>\n",
       "      <td>37138.149346</td>\n",
       "      <td>-1069.158217</td>\n",
       "      <td>-88.737988</td>\n",
       "      <td>-12.548281</td>\n",
       "      <td>3.285130</td>\n",
       "      <td>-1.830966</td>\n",
       "      <td>0.609996</td>\n",
       "      <td>9.867208</td>\n",
       "      <td>-0.182240</td>\n",
       "      <td>1.385362</td>\n",
       "    </tr>\n",
       "    <tr>\n",
       "      <th>1</th>\n",
       "      <td>-99849.846052</td>\n",
       "      <td>-1105.158670</td>\n",
       "      <td>-91.037620</td>\n",
       "      <td>1.537647</td>\n",
       "      <td>9.669215</td>\n",
       "      <td>-1.892990</td>\n",
       "      <td>-1.910301</td>\n",
       "      <td>0.135435</td>\n",
       "      <td>1.191920</td>\n",
       "      <td>-1.413784</td>\n",
       "    </tr>\n",
       "    <tr>\n",
       "      <th>2</th>\n",
       "      <td>147287.145479</td>\n",
       "      <td>-1040.207436</td>\n",
       "      <td>-86.839382</td>\n",
       "      <td>-8.374537</td>\n",
       "      <td>2.751613</td>\n",
       "      <td>-2.606959</td>\n",
       "      <td>4.569353</td>\n",
       "      <td>2.325188</td>\n",
       "      <td>-2.801345</td>\n",
       "      <td>-1.179723</td>\n",
       "    </tr>\n",
       "    <tr>\n",
       "      <th>3</th>\n",
       "      <td>-29342.869359</td>\n",
       "      <td>6601.360883</td>\n",
       "      <td>-76.720709</td>\n",
       "      <td>3.806154</td>\n",
       "      <td>-2.248693</td>\n",
       "      <td>-2.347294</td>\n",
       "      <td>0.221526</td>\n",
       "      <td>-4.200422</td>\n",
       "      <td>1.823993</td>\n",
       "      <td>-1.227497</td>\n",
       "    </tr>\n",
       "    <tr>\n",
       "      <th>4</th>\n",
       "      <td>-86166.846299</td>\n",
       "      <td>-1101.568043</td>\n",
       "      <td>-90.879471</td>\n",
       "      <td>-23.308661</td>\n",
       "      <td>-4.075966</td>\n",
       "      <td>-2.111870</td>\n",
       "      <td>-6.900897</td>\n",
       "      <td>-4.265515</td>\n",
       "      <td>0.760812</td>\n",
       "      <td>1.425984</td>\n",
       "    </tr>\n",
       "    <tr>\n",
       "      <th>...</th>\n",
       "      <td>...</td>\n",
       "      <td>...</td>\n",
       "      <td>...</td>\n",
       "      <td>...</td>\n",
       "      <td>...</td>\n",
       "      <td>...</td>\n",
       "      <td>...</td>\n",
       "      <td>...</td>\n",
       "      <td>...</td>\n",
       "      <td>...</td>\n",
       "    </tr>\n",
       "    <tr>\n",
       "      <th>48837</th>\n",
       "      <td>67638.148259</td>\n",
       "      <td>-1061.141652</td>\n",
       "      <td>-88.210224</td>\n",
       "      <td>-10.855486</td>\n",
       "      <td>1.202734</td>\n",
       "      <td>-2.281553</td>\n",
       "      <td>6.658190</td>\n",
       "      <td>2.304668</td>\n",
       "      <td>-2.355336</td>\n",
       "      <td>2.589210</td>\n",
       "    </tr>\n",
       "    <tr>\n",
       "      <th>48838</th>\n",
       "      <td>-35289.848299</td>\n",
       "      <td>-1088.191718</td>\n",
       "      <td>-89.944731</td>\n",
       "      <td>1.292882</td>\n",
       "      <td>-0.490470</td>\n",
       "      <td>-2.146703</td>\n",
       "      <td>0.432130</td>\n",
       "      <td>-0.276914</td>\n",
       "      <td>1.158585</td>\n",
       "      <td>-1.614742</td>\n",
       "    </tr>\n",
       "    <tr>\n",
       "      <th>48839</th>\n",
       "      <td>-37753.848390</td>\n",
       "      <td>-1088.836941</td>\n",
       "      <td>-89.953364</td>\n",
       "      <td>18.235610</td>\n",
       "      <td>-5.888952</td>\n",
       "      <td>-2.282315</td>\n",
       "      <td>-5.521320</td>\n",
       "      <td>-0.186465</td>\n",
       "      <td>1.022353</td>\n",
       "      <td>4.117873</td>\n",
       "    </tr>\n",
       "    <tr>\n",
       "      <th>48840</th>\n",
       "      <td>11826.150276</td>\n",
       "      <td>-1075.813852</td>\n",
       "      <td>-89.210991</td>\n",
       "      <td>-21.283764</td>\n",
       "      <td>-14.914138</td>\n",
       "      <td>-2.317103</td>\n",
       "      <td>-5.015710</td>\n",
       "      <td>-0.631298</td>\n",
       "      <td>0.295746</td>\n",
       "      <td>0.104755</td>\n",
       "    </tr>\n",
       "    <tr>\n",
       "      <th>48841</th>\n",
       "      <td>98259.197846</td>\n",
       "      <td>13970.888305</td>\n",
       "      <td>-62.008910</td>\n",
       "      <td>11.239697</td>\n",
       "      <td>-5.663091</td>\n",
       "      <td>-2.734091</td>\n",
       "      <td>-2.702937</td>\n",
       "      <td>-0.006209</td>\n",
       "      <td>1.636968</td>\n",
       "      <td>2.814175</td>\n",
       "    </tr>\n",
       "  </tbody>\n",
       "</table>\n",
       "<p>48842 rows × 10 columns</p>\n",
       "</div>"
      ],
      "text/plain": [
       "                   0             1          2          3          4         5  \\\n",
       "0       37138.149346  -1069.158217 -88.737988 -12.548281   3.285130 -1.830966   \n",
       "1      -99849.846052  -1105.158670 -91.037620   1.537647   9.669215 -1.892990   \n",
       "2      147287.145479  -1040.207436 -86.839382  -8.374537   2.751613 -2.606959   \n",
       "3      -29342.869359   6601.360883 -76.720709   3.806154  -2.248693 -2.347294   \n",
       "4      -86166.846299  -1101.568043 -90.879471 -23.308661  -4.075966 -2.111870   \n",
       "...              ...           ...        ...        ...        ...       ...   \n",
       "48837   67638.148259  -1061.141652 -88.210224 -10.855486   1.202734 -2.281553   \n",
       "48838  -35289.848299  -1088.191718 -89.944731   1.292882  -0.490470 -2.146703   \n",
       "48839  -37753.848390  -1088.836941 -89.953364  18.235610  -5.888952 -2.282315   \n",
       "48840   11826.150276  -1075.813852 -89.210991 -21.283764 -14.914138 -2.317103   \n",
       "48841   98259.197846  13970.888305 -62.008910  11.239697  -5.663091 -2.734091   \n",
       "\n",
       "              6         7         8         9  \n",
       "0      0.609996  9.867208 -0.182240  1.385362  \n",
       "1     -1.910301  0.135435  1.191920 -1.413784  \n",
       "2      4.569353  2.325188 -2.801345 -1.179723  \n",
       "3      0.221526 -4.200422  1.823993 -1.227497  \n",
       "4     -6.900897 -4.265515  0.760812  1.425984  \n",
       "...         ...       ...       ...       ...  \n",
       "48837  6.658190  2.304668 -2.355336  2.589210  \n",
       "48838  0.432130 -0.276914  1.158585 -1.614742  \n",
       "48839 -5.521320 -0.186465  1.022353  4.117873  \n",
       "48840 -5.015710 -0.631298  0.295746  0.104755  \n",
       "48841 -2.702937 -0.006209  1.636968  2.814175  \n",
       "\n",
       "[48842 rows x 10 columns]"
      ]
     },
     "execution_count": 87,
     "metadata": {},
     "output_type": "execute_result"
    }
   ],
   "source": [
    "# transformed_data\n",
    "#this is the top ten features using PCA \n",
    "\n",
    "pd.DataFrame(transformed_data)"
   ]
  },
  {
   "cell_type": "markdown",
   "metadata": {},
   "source": [
    "### Short Essay about the Solution approach and learning outcomes.\n",
    "\n"
   ]
  },
  {
   "cell_type": "markdown",
   "metadata": {},
   "source": [
    "from the correlation results, we can see that educational number has the largest correlation with future income, and the correlation is postive, indicating that more education is associated with more income. meanwhile, the age is also positively associated with the income.\n",
    "\n",
    "based on the result of PCA, I get the top ten transformed variables to exaplain the dependent variable. However, the PCA is mainly used for dimension reduction but it can not tell which variable is the most relevant because all the new variables is a linear combination of the original variables."
   ]
  },
  {
   "cell_type": "code",
   "execution_count": null,
   "metadata": {},
   "outputs": [],
   "source": []
  },
  {
   "cell_type": "markdown",
   "metadata": {},
   "source": [
    "# Introduction, Data , Pandas "
   ]
  },
  {
   "cell_type": "markdown",
   "metadata": {},
   "source": [
    "## 5. What is the typical Data Science process? Draw a figure and give an explanation\n",
    "\n",
    "1. we should have a research question\n",
    "\n",
    "2. we search and find the data, we should know how were the data sampled, which data are relevant, whether there are private issues\n",
    "\n",
    "3. we explore the data and get to know the data, include plotting the data, impute missing values, find the patterns in the data\n",
    "\n",
    "4. we build a model based on the data, fit the modelm and validate the model.\n",
    "\n",
    "5. we visualize the data results and see if the results make sense or not."
   ]
  },
  {
   "attachments": {
    "image.png": {
     "image/png": "[encoded data removed]"
    }
   },
   "cell_type": "markdown",
   "metadata": {},
   "source": [
    "![image.png](attachment:image.png)"
   ]
  },
  {
   "cell_type": "code",
   "execution_count": null,
   "metadata": {},
   "outputs": [],
   "source": []
  },
  {
   "cell_type": "markdown",
   "metadata": {},
   "source": [
    "## 6. Try finding an interesting real-world problem that has been solved by the applications of data science."
   ]
  },
  {
   "cell_type": "markdown",
   "metadata": {},
   "source": [
    "### a.\tClearly understand the problem and write the problem statement in your own words.\n",
    "\n",
    "I publish the following paper last year and answer the research question: \n",
    "\n",
    "how COVID-19 influence the commercial real estate price and rent in Florida?\n",
    "\n",
    "\n",
    "Wen, Y., Fang, L., & Li, Q. (2022). Commercial Real Estate Market at a Crossroads: The Impact of COVID-19 and the Implications to Future Cities. Sustainability, 14(19), 12851."
   ]
  },
  {
   "cell_type": "markdown",
   "metadata": {},
   "source": [
    "### b.\tExplore the dataset and attach a small sample with your submission\n",
    "\n",
    "the overall code is available in github:https://github.com/yijiawen1203/CRE_COVID"
   ]
  },
  {
   "cell_type": "markdown",
   "metadata": {},
   "source": [
    "### c.\tWrite a 200 – 500 word essay for the solution presented with ‘simple words (don’t explain the code) \n",
    "\n",
    "In order to understand the influence of COVID19 on commercial real estate market in Florida, I collect COVID data, office building rent price, sale price, and policy data (i.e., facial mask policy, stay at home policy) and merge the data together.\n",
    "\n",
    "I use python to clean the data, visulize it, and run fixed-effect regression to see the influence.I find data science is especially helpful because it is a great tool to visualize the data, explore the data, and let me find the patterns behind the number.\n",
    "\n",
    "I write the whole paper and the paper has been published. It is available online: https://www-mdpi-com.proxy.lib.fsu.edu/2071-1050/14/19/12851\n",
    "\n",
    "Reference:\n",
    "\n",
    "\n",
    "Wen, Y., Fang, L., & Li, Q. (2022). Commercial Real Estate Market at a Crossroads: The Impact of COVID-19 and the Implications to Future Cities. Sustainability, 14(19), 12851."
   ]
  },
  {
   "cell_type": "code",
   "execution_count": null,
   "metadata": {},
   "outputs": [],
   "source": []
  },
  {
   "cell_type": "markdown",
   "metadata": {},
   "source": [
    "## 7. a. Make some distinctions between clean data and dirty data. How do you handle noisy data in data science ? "
   ]
  },
  {
   "cell_type": "markdown",
   "metadata": {},
   "source": [
    "the clean data has been taken from its original raw form, and been modifed.\n",
    "the dirty data has errors that are not fixed, and has missing values, adn has useless information.\n",
    "to handle noisy data, i need to clean the data and preprocess the data.\n",
    "for example, i can visualize the data using histgram, and see if there is outliners. and i can normalize the data and impute the data. also, i need to replace missing data using some techniques, such as using medians."
   ]
  },
  {
   "attachments": {
    "image.png": {
     "image/png": "[encoded data removed]"
    }
   },
   "cell_type": "markdown",
   "metadata": {},
   "source": [
    "## 7.b. Consider  a  table which  contains a person’s name, address and other information. Find out the noisy data from the table and correctly represent the table with clean data.  \n",
    "\n",
    "![image.png](attachment:image.png)"
   ]
  },
  {
   "cell_type": "markdown",
   "metadata": {},
   "source": [
    "the noise data include: \n",
    "\n",
    "zip column \"98052-1234\"shoud be replaced by 98052\n",
    "\n",
    "State column: RI should be replaced by \"Rhode Island\".\n",
    "    \n",
    "Street column: Streee should be replaced by St"
   ]
  },
  {
   "cell_type": "code",
   "execution_count": 92,
   "metadata": {},
   "outputs": [],
   "source": [
    "#I create a row with the above noisy data\n",
    "\n",
    "\n",
    "# Create an empty DataFrame\n",
    "noisydata = pd.DataFrame(columns=['ID', 'Street','Zip','State'])\n",
    "\n",
    "# Add a new row to the DataFrame\n",
    "new_row = {'ID':'1','Street':'245 Third Street','Zip':'98052-1234','State':'RI'}\n",
    "noisydata = noisydata.append(new_row, ignore_index=True)\n",
    "\n"
   ]
  },
  {
   "cell_type": "code",
   "execution_count": 93,
   "metadata": {},
   "outputs": [
    {
     "data": {
      "text/html": [
       "<div>\n",
       "<style scoped>\n",
       "    .dataframe tbody tr th:only-of-type {\n",
       "        vertical-align: middle;\n",
       "    }\n",
       "\n",
       "    .dataframe tbody tr th {\n",
       "        vertical-align: top;\n",
       "    }\n",
       "\n",
       "    .dataframe thead th {\n",
       "        text-align: right;\n",
       "    }\n",
       "</style>\n",
       "<table border=\"1\" class=\"dataframe\">\n",
       "  <thead>\n",
       "    <tr style=\"text-align: right;\">\n",
       "      <th></th>\n",
       "      <th>ID</th>\n",
       "      <th>Street</th>\n",
       "      <th>Zip</th>\n",
       "      <th>State</th>\n",
       "    </tr>\n",
       "  </thead>\n",
       "  <tbody>\n",
       "    <tr>\n",
       "      <th>0</th>\n",
       "      <td>1</td>\n",
       "      <td>245 Third Street</td>\n",
       "      <td>98052-1234</td>\n",
       "      <td>RI</td>\n",
       "    </tr>\n",
       "  </tbody>\n",
       "</table>\n",
       "</div>"
      ],
      "text/plain": [
       "  ID            Street         Zip State\n",
       "0  1  245 Third Street  98052-1234    RI"
      ]
     },
     "execution_count": 93,
     "metadata": {},
     "output_type": "execute_result"
    }
   ],
   "source": [
    "noisydata"
   ]
  },
  {
   "cell_type": "code",
   "execution_count": 95,
   "metadata": {},
   "outputs": [],
   "source": [
    "import re\n",
    "\n",
    "# new_text = re.sub(\"street\", \"st\", text)\n",
    "\n",
    "# Define a function to replace occurrences of \"street\" with \"st\"\n",
    "def replace_street(text):\n",
    "    return re.sub(\"street\", \"st\", str(text))\n",
    "\n",
    "# Use the applymap() method to apply the replace_street() function to every element of the DataFrame\n",
    "noisydata = noisydata.applymap(replace_street)\n",
    "\n"
   ]
  },
  {
   "cell_type": "code",
   "execution_count": 96,
   "metadata": {},
   "outputs": [
    {
     "data": {
      "text/html": [
       "<div>\n",
       "<style scoped>\n",
       "    .dataframe tbody tr th:only-of-type {\n",
       "        vertical-align: middle;\n",
       "    }\n",
       "\n",
       "    .dataframe tbody tr th {\n",
       "        vertical-align: top;\n",
       "    }\n",
       "\n",
       "    .dataframe thead th {\n",
       "        text-align: right;\n",
       "    }\n",
       "</style>\n",
       "<table border=\"1\" class=\"dataframe\">\n",
       "  <thead>\n",
       "    <tr style=\"text-align: right;\">\n",
       "      <th></th>\n",
       "      <th>ID</th>\n",
       "      <th>Street</th>\n",
       "      <th>Zip</th>\n",
       "      <th>State</th>\n",
       "    </tr>\n",
       "  </thead>\n",
       "  <tbody>\n",
       "    <tr>\n",
       "      <th>0</th>\n",
       "      <td>1</td>\n",
       "      <td>245 Third Street</td>\n",
       "      <td>98052-1234</td>\n",
       "      <td>RI</td>\n",
       "    </tr>\n",
       "  </tbody>\n",
       "</table>\n",
       "</div>"
      ],
      "text/plain": [
       "  ID            Street         Zip State\n",
       "0  1  245 Third Street  98052-1234    RI"
      ]
     },
     "execution_count": 96,
     "metadata": {},
     "output_type": "execute_result"
    }
   ],
   "source": [
    "noisydata"
   ]
  },
  {
   "cell_type": "code",
   "execution_count": 99,
   "metadata": {},
   "outputs": [],
   "source": [
    "def replace_state(text):\n",
    "    return re.sub(\"RI\", \"Rhode Island\", str(text))"
   ]
  },
  {
   "cell_type": "code",
   "execution_count": 101,
   "metadata": {},
   "outputs": [],
   "source": [
    "noisydata= noisydata.applymap(replace_state)\n"
   ]
  },
  {
   "cell_type": "code",
   "execution_count": 102,
   "metadata": {},
   "outputs": [
    {
     "data": {
      "text/html": [
       "<div>\n",
       "<style scoped>\n",
       "    .dataframe tbody tr th:only-of-type {\n",
       "        vertical-align: middle;\n",
       "    }\n",
       "\n",
       "    .dataframe tbody tr th {\n",
       "        vertical-align: top;\n",
       "    }\n",
       "\n",
       "    .dataframe thead th {\n",
       "        text-align: right;\n",
       "    }\n",
       "</style>\n",
       "<table border=\"1\" class=\"dataframe\">\n",
       "  <thead>\n",
       "    <tr style=\"text-align: right;\">\n",
       "      <th></th>\n",
       "      <th>ID</th>\n",
       "      <th>Street</th>\n",
       "      <th>Zip</th>\n",
       "      <th>State</th>\n",
       "    </tr>\n",
       "  </thead>\n",
       "  <tbody>\n",
       "    <tr>\n",
       "      <th>0</th>\n",
       "      <td>1</td>\n",
       "      <td>245 Third Street</td>\n",
       "      <td>98052-1234</td>\n",
       "      <td>Rhode Island</td>\n",
       "    </tr>\n",
       "  </tbody>\n",
       "</table>\n",
       "</div>"
      ],
      "text/plain": [
       "  ID            Street         Zip         State\n",
       "0  1  245 Third Street  98052-1234  Rhode Island"
      ]
     },
     "execution_count": 102,
     "metadata": {},
     "output_type": "execute_result"
    }
   ],
   "source": [
    "noisydata"
   ]
  },
  {
   "cell_type": "code",
   "execution_count": 106,
   "metadata": {},
   "outputs": [],
   "source": [
    "for i in range(len(noisydata)):\n",
    "    zipi=noisydata['Zip'][i][:5]\n",
    "    noisydata['Zip'][i]=zipi\n",
    "    \n",
    "    \n",
    "    "
   ]
  },
  {
   "cell_type": "code",
   "execution_count": 107,
   "metadata": {},
   "outputs": [
    {
     "data": {
      "text/html": [
       "<div>\n",
       "<style scoped>\n",
       "    .dataframe tbody tr th:only-of-type {\n",
       "        vertical-align: middle;\n",
       "    }\n",
       "\n",
       "    .dataframe tbody tr th {\n",
       "        vertical-align: top;\n",
       "    }\n",
       "\n",
       "    .dataframe thead th {\n",
       "        text-align: right;\n",
       "    }\n",
       "</style>\n",
       "<table border=\"1\" class=\"dataframe\">\n",
       "  <thead>\n",
       "    <tr style=\"text-align: right;\">\n",
       "      <th></th>\n",
       "      <th>ID</th>\n",
       "      <th>Street</th>\n",
       "      <th>Zip</th>\n",
       "      <th>State</th>\n",
       "    </tr>\n",
       "  </thead>\n",
       "  <tbody>\n",
       "    <tr>\n",
       "      <th>0</th>\n",
       "      <td>1</td>\n",
       "      <td>245 Third Street</td>\n",
       "      <td>98052</td>\n",
       "      <td>Rhode Island</td>\n",
       "    </tr>\n",
       "  </tbody>\n",
       "</table>\n",
       "</div>"
      ],
      "text/plain": [
       "  ID            Street    Zip         State\n",
       "0  1  245 Third Street  98052  Rhode Island"
      ]
     },
     "execution_count": 107,
     "metadata": {},
     "output_type": "execute_result"
    }
   ],
   "source": [
    "noisydata\n"
   ]
  },
  {
   "cell_type": "code",
   "execution_count": null,
   "metadata": {},
   "outputs": [],
   "source": []
  },
  {
   "cell_type": "code",
   "execution_count": null,
   "metadata": {},
   "outputs": [],
   "source": []
  },
  {
   "cell_type": "markdown",
   "metadata": {},
   "source": [
    "## 8. clean twitter words"
   ]
  },
  {
   "cell_type": "markdown",
   "metadata": {},
   "source": [
    "### 8.a.\tYou need to write an expression that will replace all the special characters(@?!,) from the sentence"
   ]
  },
  {
   "cell_type": "code",
   "execution_count": 27,
   "metadata": {},
   "outputs": [],
   "source": [
    "words='@A new era of twitter is going to start?!! Twitter will lead the tech world from now on.Yeah..!!'"
   ]
  },
  {
   "cell_type": "code",
   "execution_count": 28,
   "metadata": {},
   "outputs": [
    {
     "name": "stdout",
     "output_type": "stream",
     "text": [
      "A new era of twitter is going to start Twitter will lead the tech world from now on.Yeah..\n"
     ]
    }
   ],
   "source": [
    "import re\n",
    "new_words = re.sub(r\"[@?!,]\", \"\", words)\n",
    "print(new_words)\n"
   ]
  },
  {
   "cell_type": "markdown",
   "metadata": {},
   "source": [
    "### 8.b. These phone numbers need to be separated  into area code (first 3 digits), exchange (next 3 digits), and line number (last 4 digits)"
   ]
  },
  {
   "cell_type": "code",
   "execution_count": 38,
   "metadata": {},
   "outputs": [],
   "source": [
    "phone=pd.DataFrame({'phone_number':['(541)471 3918','(603)281-0308',\n",
    "                                    '(814)-462-8074','9704443106'\n",
    "                                   ]})"
   ]
  },
  {
   "cell_type": "code",
   "execution_count": 41,
   "metadata": {},
   "outputs": [
    {
     "data": {
      "text/html": [
       "<div>\n",
       "<style scoped>\n",
       "    .dataframe tbody tr th:only-of-type {\n",
       "        vertical-align: middle;\n",
       "    }\n",
       "\n",
       "    .dataframe tbody tr th {\n",
       "        vertical-align: top;\n",
       "    }\n",
       "\n",
       "    .dataframe thead th {\n",
       "        text-align: right;\n",
       "    }\n",
       "</style>\n",
       "<table border=\"1\" class=\"dataframe\">\n",
       "  <thead>\n",
       "    <tr style=\"text-align: right;\">\n",
       "      <th></th>\n",
       "      <th>phone_number</th>\n",
       "    </tr>\n",
       "  </thead>\n",
       "  <tbody>\n",
       "    <tr>\n",
       "      <th>0</th>\n",
       "      <td>(541)471 3918</td>\n",
       "    </tr>\n",
       "    <tr>\n",
       "      <th>1</th>\n",
       "      <td>(603)281-0308</td>\n",
       "    </tr>\n",
       "    <tr>\n",
       "      <th>2</th>\n",
       "      <td>(814)-462-8074</td>\n",
       "    </tr>\n",
       "    <tr>\n",
       "      <th>3</th>\n",
       "      <td>9704443106</td>\n",
       "    </tr>\n",
       "  </tbody>\n",
       "</table>\n",
       "</div>"
      ],
      "text/plain": [
       "     phone_number\n",
       "0   (541)471 3918\n",
       "1   (603)281-0308\n",
       "2  (814)-462-8074\n",
       "3      9704443106"
      ]
     },
     "execution_count": 41,
     "metadata": {},
     "output_type": "execute_result"
    }
   ],
   "source": [
    "phone"
   ]
  },
  {
   "cell_type": "code",
   "execution_count": 46,
   "metadata": {},
   "outputs": [],
   "source": [
    "phone[['area_code','exchange','line_number']]=''\n",
    "\n",
    "for ind in phone.index:\n",
    "    number=phone.loc[ind,'phone_number']\n",
    "    number_new=re.sub(r\"[() -]\", '', number)\n",
    "    area_codei=number_new[:3]\n",
    "    exchangei=number_new[3:6]\n",
    "    line_numberi=number_new[6:]\n",
    "    phone.loc[ind,'area_code']=area_codei\n",
    "    phone.loc[ind,'exchange']=exchangei\n",
    "    phone.loc[ind,'line_number']=line_numberi\n",
    "    \n",
    "    \n"
   ]
  },
  {
   "cell_type": "code",
   "execution_count": 47,
   "metadata": {},
   "outputs": [
    {
     "data": {
      "text/html": [
       "<div>\n",
       "<style scoped>\n",
       "    .dataframe tbody tr th:only-of-type {\n",
       "        vertical-align: middle;\n",
       "    }\n",
       "\n",
       "    .dataframe tbody tr th {\n",
       "        vertical-align: top;\n",
       "    }\n",
       "\n",
       "    .dataframe thead th {\n",
       "        text-align: right;\n",
       "    }\n",
       "</style>\n",
       "<table border=\"1\" class=\"dataframe\">\n",
       "  <thead>\n",
       "    <tr style=\"text-align: right;\">\n",
       "      <th></th>\n",
       "      <th>phone_number</th>\n",
       "      <th>area_code</th>\n",
       "      <th>exchange</th>\n",
       "      <th>line_number</th>\n",
       "    </tr>\n",
       "  </thead>\n",
       "  <tbody>\n",
       "    <tr>\n",
       "      <th>0</th>\n",
       "      <td>(541)471 3918</td>\n",
       "      <td>541</td>\n",
       "      <td>471</td>\n",
       "      <td>3918</td>\n",
       "    </tr>\n",
       "    <tr>\n",
       "      <th>1</th>\n",
       "      <td>(603)281-0308</td>\n",
       "      <td>603</td>\n",
       "      <td>281</td>\n",
       "      <td>0308</td>\n",
       "    </tr>\n",
       "    <tr>\n",
       "      <th>2</th>\n",
       "      <td>(814)-462-8074</td>\n",
       "      <td>814</td>\n",
       "      <td>462</td>\n",
       "      <td>8074</td>\n",
       "    </tr>\n",
       "    <tr>\n",
       "      <th>3</th>\n",
       "      <td>9704443106</td>\n",
       "      <td>970</td>\n",
       "      <td>444</td>\n",
       "      <td>3106</td>\n",
       "    </tr>\n",
       "  </tbody>\n",
       "</table>\n",
       "</div>"
      ],
      "text/plain": [
       "     phone_number area_code exchange line_number\n",
       "0   (541)471 3918       541      471        3918\n",
       "1   (603)281-0308       603      281        0308\n",
       "2  (814)-462-8074       814      462        8074\n",
       "3      9704443106       970      444        3106"
      ]
     },
     "execution_count": 47,
     "metadata": {},
     "output_type": "execute_result"
    }
   ],
   "source": [
    "phone"
   ]
  },
  {
   "cell_type": "markdown",
   "metadata": {},
   "source": [
    "## 9Answer the following questions based on the dataset. (sales_subset.csv)"
   ]
  },
  {
   "cell_type": "markdown",
   "metadata": {},
   "source": [
    "### a. Show the bottom 7 entries of the dataset"
   ]
  },
  {
   "cell_type": "code",
   "execution_count": 57,
   "metadata": {},
   "outputs": [],
   "source": [
    "CircleK_Sales=pd.read_csv('/Users/yoga/Dropbox/0 FSU/5_2023_spring/3 CAP intro to data science/assignment/Introduction to Data Science assignment1/sales_subset .csv')"
   ]
  },
  {
   "cell_type": "code",
   "execution_count": 58,
   "metadata": {},
   "outputs": [
    {
     "data": {
      "text/html": [
       "<div>\n",
       "<style scoped>\n",
       "    .dataframe tbody tr th:only-of-type {\n",
       "        vertical-align: middle;\n",
       "    }\n",
       "\n",
       "    .dataframe tbody tr th {\n",
       "        vertical-align: top;\n",
       "    }\n",
       "\n",
       "    .dataframe thead th {\n",
       "        text-align: right;\n",
       "    }\n",
       "</style>\n",
       "<table border=\"1\" class=\"dataframe\">\n",
       "  <thead>\n",
       "    <tr style=\"text-align: right;\">\n",
       "      <th></th>\n",
       "      <th>Unnamed: 0</th>\n",
       "      <th>store</th>\n",
       "      <th>type</th>\n",
       "      <th>department</th>\n",
       "      <th>date</th>\n",
       "      <th>weekly_sales</th>\n",
       "      <th>is_holiday</th>\n",
       "      <th>temperature_c</th>\n",
       "      <th>fuel_price_usd_per_l</th>\n",
       "      <th>unemployment</th>\n",
       "    </tr>\n",
       "  </thead>\n",
       "  <tbody>\n",
       "    <tr>\n",
       "      <th>10767</th>\n",
       "      <td>10767</td>\n",
       "      <td>39</td>\n",
       "      <td>A</td>\n",
       "      <td>99</td>\n",
       "      <td>2011-08-19</td>\n",
       "      <td>622.00</td>\n",
       "      <td>False</td>\n",
       "      <td>31.072222</td>\n",
       "      <td>0.938868</td>\n",
       "      <td>8.177</td>\n",
       "    </tr>\n",
       "    <tr>\n",
       "      <th>10768</th>\n",
       "      <td>10768</td>\n",
       "      <td>39</td>\n",
       "      <td>A</td>\n",
       "      <td>99</td>\n",
       "      <td>2011-11-11</td>\n",
       "      <td>50.00</td>\n",
       "      <td>False</td>\n",
       "      <td>17.283333</td>\n",
       "      <td>0.870976</td>\n",
       "      <td>7.716</td>\n",
       "    </tr>\n",
       "    <tr>\n",
       "      <th>10769</th>\n",
       "      <td>10769</td>\n",
       "      <td>39</td>\n",
       "      <td>A</td>\n",
       "      <td>99</td>\n",
       "      <td>2011-12-09</td>\n",
       "      <td>895.00</td>\n",
       "      <td>False</td>\n",
       "      <td>9.644444</td>\n",
       "      <td>0.834256</td>\n",
       "      <td>7.716</td>\n",
       "    </tr>\n",
       "    <tr>\n",
       "      <th>10770</th>\n",
       "      <td>10770</td>\n",
       "      <td>39</td>\n",
       "      <td>A</td>\n",
       "      <td>99</td>\n",
       "      <td>2012-02-03</td>\n",
       "      <td>350.00</td>\n",
       "      <td>False</td>\n",
       "      <td>15.938889</td>\n",
       "      <td>0.887619</td>\n",
       "      <td>7.244</td>\n",
       "    </tr>\n",
       "    <tr>\n",
       "      <th>10771</th>\n",
       "      <td>10771</td>\n",
       "      <td>39</td>\n",
       "      <td>A</td>\n",
       "      <td>99</td>\n",
       "      <td>2012-06-08</td>\n",
       "      <td>450.00</td>\n",
       "      <td>False</td>\n",
       "      <td>27.288889</td>\n",
       "      <td>0.911922</td>\n",
       "      <td>6.989</td>\n",
       "    </tr>\n",
       "    <tr>\n",
       "      <th>10772</th>\n",
       "      <td>10772</td>\n",
       "      <td>39</td>\n",
       "      <td>A</td>\n",
       "      <td>99</td>\n",
       "      <td>2012-07-13</td>\n",
       "      <td>0.06</td>\n",
       "      <td>False</td>\n",
       "      <td>25.644444</td>\n",
       "      <td>0.860145</td>\n",
       "      <td>6.623</td>\n",
       "    </tr>\n",
       "    <tr>\n",
       "      <th>10773</th>\n",
       "      <td>10773</td>\n",
       "      <td>39</td>\n",
       "      <td>A</td>\n",
       "      <td>99</td>\n",
       "      <td>2012-10-05</td>\n",
       "      <td>915.00</td>\n",
       "      <td>False</td>\n",
       "      <td>22.250000</td>\n",
       "      <td>0.955511</td>\n",
       "      <td>6.228</td>\n",
       "    </tr>\n",
       "  </tbody>\n",
       "</table>\n",
       "</div>"
      ],
      "text/plain": [
       "       Unnamed: 0  store type  department        date  weekly_sales  \\\n",
       "10767       10767     39    A          99  2011-08-19        622.00   \n",
       "10768       10768     39    A          99  2011-11-11         50.00   \n",
       "10769       10769     39    A          99  2011-12-09        895.00   \n",
       "10770       10770     39    A          99  2012-02-03        350.00   \n",
       "10771       10771     39    A          99  2012-06-08        450.00   \n",
       "10772       10772     39    A          99  2012-07-13          0.06   \n",
       "10773       10773     39    A          99  2012-10-05        915.00   \n",
       "\n",
       "       is_holiday  temperature_c  fuel_price_usd_per_l  unemployment  \n",
       "10767       False      31.072222              0.938868         8.177  \n",
       "10768       False      17.283333              0.870976         7.716  \n",
       "10769       False       9.644444              0.834256         7.716  \n",
       "10770       False      15.938889              0.887619         7.244  \n",
       "10771       False      27.288889              0.911922         6.989  \n",
       "10772       False      25.644444              0.860145         6.623  \n",
       "10773       False      22.250000              0.955511         6.228  "
      ]
     },
     "execution_count": 58,
     "metadata": {},
     "output_type": "execute_result"
    }
   ],
   "source": [
    "CircleK_Sales.tail(7)"
   ]
  },
  {
   "cell_type": "markdown",
   "metadata": {},
   "source": [
    "###  Show the information about the column types and missing values\n",
    "\n",
    "no missing value in the dataframe"
   ]
  },
  {
   "cell_type": "code",
   "execution_count": 59,
   "metadata": {},
   "outputs": [
    {
     "name": "stdout",
     "output_type": "stream",
     "text": [
      "<class 'pandas.core.frame.DataFrame'>\n",
      "RangeIndex: 10774 entries, 0 to 10773\n",
      "Data columns (total 10 columns):\n",
      " #   Column                Non-Null Count  Dtype  \n",
      "---  ------                --------------  -----  \n",
      " 0   Unnamed: 0            10774 non-null  int64  \n",
      " 1   store                 10774 non-null  int64  \n",
      " 2   type                  10774 non-null  object \n",
      " 3   department            10774 non-null  int64  \n",
      " 4   date                  10774 non-null  object \n",
      " 5   weekly_sales          10774 non-null  float64\n",
      " 6   is_holiday            10774 non-null  bool   \n",
      " 7   temperature_c         10774 non-null  float64\n",
      " 8   fuel_price_usd_per_l  10774 non-null  float64\n",
      " 9   unemployment          10774 non-null  float64\n",
      "dtypes: bool(1), float64(4), int64(3), object(2)\n",
      "memory usage: 768.2+ KB\n"
     ]
    }
   ],
   "source": [
    " CircleK_Sales.info()"
   ]
  },
  {
   "cell_type": "code",
   "execution_count": 60,
   "metadata": {},
   "outputs": [],
   "source": [
    "sales_with_nan =  CircleK_Sales[ CircleK_Sales.isna().any(axis=1)]"
   ]
  },
  {
   "cell_type": "code",
   "execution_count": 61,
   "metadata": {},
   "outputs": [
    {
     "data": {
      "text/html": [
       "<div>\n",
       "<style scoped>\n",
       "    .dataframe tbody tr th:only-of-type {\n",
       "        vertical-align: middle;\n",
       "    }\n",
       "\n",
       "    .dataframe tbody tr th {\n",
       "        vertical-align: top;\n",
       "    }\n",
       "\n",
       "    .dataframe thead th {\n",
       "        text-align: right;\n",
       "    }\n",
       "</style>\n",
       "<table border=\"1\" class=\"dataframe\">\n",
       "  <thead>\n",
       "    <tr style=\"text-align: right;\">\n",
       "      <th></th>\n",
       "      <th>Unnamed: 0</th>\n",
       "      <th>store</th>\n",
       "      <th>type</th>\n",
       "      <th>department</th>\n",
       "      <th>date</th>\n",
       "      <th>weekly_sales</th>\n",
       "      <th>is_holiday</th>\n",
       "      <th>temperature_c</th>\n",
       "      <th>fuel_price_usd_per_l</th>\n",
       "      <th>unemployment</th>\n",
       "    </tr>\n",
       "  </thead>\n",
       "  <tbody>\n",
       "  </tbody>\n",
       "</table>\n",
       "</div>"
      ],
      "text/plain": [
       "Empty DataFrame\n",
       "Columns: [Unnamed: 0, store, type, department, date, weekly_sales, is_holiday, temperature_c, fuel_price_usd_per_l, unemployment]\n",
       "Index: []"
      ]
     },
     "execution_count": 61,
     "metadata": {},
     "output_type": "execute_result"
    }
   ],
   "source": [
    "sales_with_nan"
   ]
  },
  {
   "cell_type": "markdown",
   "metadata": {},
   "source": [
    "### Show some summary statistics that describe the CircleK_Sales Data Frame"
   ]
  },
  {
   "cell_type": "code",
   "execution_count": 62,
   "metadata": {},
   "outputs": [
    {
     "data": {
      "text/html": [
       "<div>\n",
       "<style scoped>\n",
       "    .dataframe tbody tr th:only-of-type {\n",
       "        vertical-align: middle;\n",
       "    }\n",
       "\n",
       "    .dataframe tbody tr th {\n",
       "        vertical-align: top;\n",
       "    }\n",
       "\n",
       "    .dataframe thead th {\n",
       "        text-align: right;\n",
       "    }\n",
       "</style>\n",
       "<table border=\"1\" class=\"dataframe\">\n",
       "  <thead>\n",
       "    <tr style=\"text-align: right;\">\n",
       "      <th></th>\n",
       "      <th>Unnamed: 0</th>\n",
       "      <th>store</th>\n",
       "      <th>department</th>\n",
       "      <th>weekly_sales</th>\n",
       "      <th>temperature_c</th>\n",
       "      <th>fuel_price_usd_per_l</th>\n",
       "      <th>unemployment</th>\n",
       "    </tr>\n",
       "  </thead>\n",
       "  <tbody>\n",
       "    <tr>\n",
       "      <th>count</th>\n",
       "      <td>10774.000000</td>\n",
       "      <td>10774.000000</td>\n",
       "      <td>10774.000000</td>\n",
       "      <td>10774.000000</td>\n",
       "      <td>10774.000000</td>\n",
       "      <td>10774.000000</td>\n",
       "      <td>10774.000000</td>\n",
       "    </tr>\n",
       "    <tr>\n",
       "      <th>mean</th>\n",
       "      <td>5386.500000</td>\n",
       "      <td>15.441897</td>\n",
       "      <td>45.218118</td>\n",
       "      <td>23843.950149</td>\n",
       "      <td>15.731978</td>\n",
       "      <td>0.749746</td>\n",
       "      <td>8.082009</td>\n",
       "    </tr>\n",
       "    <tr>\n",
       "      <th>std</th>\n",
       "      <td>3110.330234</td>\n",
       "      <td>11.534511</td>\n",
       "      <td>29.867779</td>\n",
       "      <td>30220.387557</td>\n",
       "      <td>9.922446</td>\n",
       "      <td>0.059494</td>\n",
       "      <td>0.624355</td>\n",
       "    </tr>\n",
       "    <tr>\n",
       "      <th>min</th>\n",
       "      <td>0.000000</td>\n",
       "      <td>1.000000</td>\n",
       "      <td>1.000000</td>\n",
       "      <td>-1098.000000</td>\n",
       "      <td>-8.366667</td>\n",
       "      <td>0.664129</td>\n",
       "      <td>3.879000</td>\n",
       "    </tr>\n",
       "    <tr>\n",
       "      <th>25%</th>\n",
       "      <td>2693.250000</td>\n",
       "      <td>4.000000</td>\n",
       "      <td>20.000000</td>\n",
       "      <td>3867.115000</td>\n",
       "      <td>7.583333</td>\n",
       "      <td>0.708246</td>\n",
       "      <td>7.795000</td>\n",
       "    </tr>\n",
       "    <tr>\n",
       "      <th>50%</th>\n",
       "      <td>5386.500000</td>\n",
       "      <td>13.000000</td>\n",
       "      <td>40.000000</td>\n",
       "      <td>12049.065000</td>\n",
       "      <td>16.966667</td>\n",
       "      <td>0.743381</td>\n",
       "      <td>8.099000</td>\n",
       "    </tr>\n",
       "    <tr>\n",
       "      <th>75%</th>\n",
       "      <td>8079.750000</td>\n",
       "      <td>20.000000</td>\n",
       "      <td>72.000000</td>\n",
       "      <td>32349.850000</td>\n",
       "      <td>24.166667</td>\n",
       "      <td>0.781421</td>\n",
       "      <td>8.360000</td>\n",
       "    </tr>\n",
       "    <tr>\n",
       "      <th>max</th>\n",
       "      <td>10773.000000</td>\n",
       "      <td>39.000000</td>\n",
       "      <td>99.000000</td>\n",
       "      <td>293966.050000</td>\n",
       "      <td>33.827778</td>\n",
       "      <td>1.107674</td>\n",
       "      <td>9.765000</td>\n",
       "    </tr>\n",
       "  </tbody>\n",
       "</table>\n",
       "</div>"
      ],
      "text/plain": [
       "         Unnamed: 0         store    department   weekly_sales  temperature_c  \\\n",
       "count  10774.000000  10774.000000  10774.000000   10774.000000   10774.000000   \n",
       "mean    5386.500000     15.441897     45.218118   23843.950149      15.731978   \n",
       "std     3110.330234     11.534511     29.867779   30220.387557       9.922446   \n",
       "min        0.000000      1.000000      1.000000   -1098.000000      -8.366667   \n",
       "25%     2693.250000      4.000000     20.000000    3867.115000       7.583333   \n",
       "50%     5386.500000     13.000000     40.000000   12049.065000      16.966667   \n",
       "75%     8079.750000     20.000000     72.000000   32349.850000      24.166667   \n",
       "max    10773.000000     39.000000     99.000000  293966.050000      33.827778   \n",
       "\n",
       "       fuel_price_usd_per_l  unemployment  \n",
       "count          10774.000000  10774.000000  \n",
       "mean               0.749746      8.082009  \n",
       "std                0.059494      0.624355  \n",
       "min                0.664129      3.879000  \n",
       "25%                0.708246      7.795000  \n",
       "50%                0.743381      8.099000  \n",
       "75%                0.781421      8.360000  \n",
       "max                1.107674      9.765000  "
      ]
     },
     "execution_count": 62,
     "metadata": {},
     "output_type": "execute_result"
    }
   ],
   "source": [
    "CircleK_Sales.describe()"
   ]
  },
  {
   "cell_type": "code",
   "execution_count": 65,
   "metadata": {},
   "outputs": [
    {
     "name": "stderr",
     "output_type": "stream",
     "text": [
      "<__array_function__ internals>:5: RuntimeWarning: Converting input from bool to <class 'numpy.uint8'> for compatibility.\n",
      "<__array_function__ internals>:5: RuntimeWarning: Converting input from bool to <class 'numpy.uint8'> for compatibility.\n"
     ]
    },
    {
     "data": {
      "text/plain": [
       "<Figure size 576x576 with 0 Axes>"
      ]
     },
     "metadata": {},
     "output_type": "display_data"
    },
    {
     "data": {
      "image/png": "[encoded data removed]",
      "text/plain": [
       "<Figure size 900x900 with 30 Axes>"
      ]
     },
     "metadata": {
      "needs_background": "light"
     },
     "output_type": "display_data"
    }
   ],
   "source": [
    "#Pair Plot\n",
    "import matplotlib.pylab as plt\n",
    "import seaborn as sns\n",
    "\n",
    "plt.figure(figsize = (8,8))\n",
    "\n",
    "subset_sales= CircleK_Sales.iloc[:,5:]  #drop first five columns, i dont want to plot them\n",
    "\n",
    "# plot a pair plot\n",
    "sns.pairplot(subset_sales)\n",
    "\n",
    "# display the plot\n",
    "plt.show()"
   ]
  },
  {
   "cell_type": "markdown",
   "metadata": {},
   "source": [
    "### Show 2D NumPy array of the values in  CircleK_Sales\n"
   ]
  },
  {
   "cell_type": "code",
   "execution_count": 66,
   "metadata": {},
   "outputs": [
    {
     "data": {
      "text/plain": [
       "array([[0, 1, 'A', ..., 5.727777777777779, 0.6794508388787476, 8.106],\n",
       "       [1, 1, 'A', ..., 8.055555555555555, 0.693451964252221, 8.106],\n",
       "       [2, 1, 'A', ..., 16.81666666666667, 0.718284148876872, 7.808],\n",
       "       ...,\n",
       "       [10771, 39, 'A', ..., 27.28888888888889, 0.911922354513778, 6.989],\n",
       "       [10772, 39, 'A', ..., 25.64444444444444, 0.8601446078496121,\n",
       "        6.622999999999999],\n",
       "       [10773, 39, 'A', ..., 22.25, 0.955510763695346, 6.228]],\n",
       "      dtype=object)"
      ]
     },
     "execution_count": 66,
     "metadata": {},
     "output_type": "execute_result"
    }
   ],
   "source": [
    "values = CircleK_Sales.to_numpy()\n",
    "values"
   ]
  },
  {
   "cell_type": "markdown",
   "metadata": {},
   "source": [
    "### Sort  CircleK_Sales by the type of customers in descending order, and save this as  CircleK_type\n"
   ]
  },
  {
   "cell_type": "code",
   "execution_count": 70,
   "metadata": {},
   "outputs": [],
   "source": [
    "CircleK_type=CircleK_Sales.sort_values(by='type', ascending=False)"
   ]
  },
  {
   "cell_type": "code",
   "execution_count": 71,
   "metadata": {},
   "outputs": [
    {
     "data": {
      "text/html": [
       "<div>\n",
       "<style scoped>\n",
       "    .dataframe tbody tr th:only-of-type {\n",
       "        vertical-align: middle;\n",
       "    }\n",
       "\n",
       "    .dataframe tbody tr th {\n",
       "        vertical-align: top;\n",
       "    }\n",
       "\n",
       "    .dataframe thead th {\n",
       "        text-align: right;\n",
       "    }\n",
       "</style>\n",
       "<table border=\"1\" class=\"dataframe\">\n",
       "  <thead>\n",
       "    <tr style=\"text-align: right;\">\n",
       "      <th></th>\n",
       "      <th>Unnamed: 0</th>\n",
       "      <th>store</th>\n",
       "      <th>type</th>\n",
       "      <th>department</th>\n",
       "      <th>date</th>\n",
       "      <th>weekly_sales</th>\n",
       "      <th>is_holiday</th>\n",
       "      <th>temperature_c</th>\n",
       "      <th>fuel_price_usd_per_l</th>\n",
       "      <th>unemployment</th>\n",
       "    </tr>\n",
       "  </thead>\n",
       "  <tbody>\n",
       "    <tr>\n",
       "      <th>4379</th>\n",
       "      <td>4379</td>\n",
       "      <td>10</td>\n",
       "      <td>B</td>\n",
       "      <td>87</td>\n",
       "      <td>2010-06-04</td>\n",
       "      <td>19530.92</td>\n",
       "      <td>False</td>\n",
       "      <td>28.233333</td>\n",
       "      <td>0.776930</td>\n",
       "      <td>9.524</td>\n",
       "    </tr>\n",
       "    <tr>\n",
       "      <th>3976</th>\n",
       "      <td>3976</td>\n",
       "      <td>10</td>\n",
       "      <td>B</td>\n",
       "      <td>33</td>\n",
       "      <td>2011-01-07</td>\n",
       "      <td>10566.11</td>\n",
       "      <td>False</td>\n",
       "      <td>6.350000</td>\n",
       "      <td>0.868334</td>\n",
       "      <td>8.744</td>\n",
       "    </tr>\n",
       "    <tr>\n",
       "      <th>3974</th>\n",
       "      <td>3974</td>\n",
       "      <td>10</td>\n",
       "      <td>B</td>\n",
       "      <td>33</td>\n",
       "      <td>2010-11-05</td>\n",
       "      <td>12468.98</td>\n",
       "      <td>False</td>\n",
       "      <td>21.688889</td>\n",
       "      <td>0.794894</td>\n",
       "      <td>9.003</td>\n",
       "    </tr>\n",
       "    <tr>\n",
       "      <th>3973</th>\n",
       "      <td>3973</td>\n",
       "      <td>10</td>\n",
       "      <td>B</td>\n",
       "      <td>33</td>\n",
       "      <td>2010-10-01</td>\n",
       "      <td>8663.69</td>\n",
       "      <td>False</td>\n",
       "      <td>30.005556</td>\n",
       "      <td>0.792781</td>\n",
       "      <td>9.003</td>\n",
       "    </tr>\n",
       "    <tr>\n",
       "      <th>3972</th>\n",
       "      <td>3972</td>\n",
       "      <td>10</td>\n",
       "      <td>B</td>\n",
       "      <td>33</td>\n",
       "      <td>2010-09-03</td>\n",
       "      <td>9555.57</td>\n",
       "      <td>False</td>\n",
       "      <td>28.777778</td>\n",
       "      <td>0.815500</td>\n",
       "      <td>9.199</td>\n",
       "    </tr>\n",
       "    <tr>\n",
       "      <th>...</th>\n",
       "      <td>...</td>\n",
       "      <td>...</td>\n",
       "      <td>...</td>\n",
       "      <td>...</td>\n",
       "      <td>...</td>\n",
       "      <td>...</td>\n",
       "      <td>...</td>\n",
       "      <td>...</td>\n",
       "      <td>...</td>\n",
       "      <td>...</td>\n",
       "    </tr>\n",
       "    <tr>\n",
       "      <th>3291</th>\n",
       "      <td>3291</td>\n",
       "      <td>6</td>\n",
       "      <td>A</td>\n",
       "      <td>56</td>\n",
       "      <td>2010-06-04</td>\n",
       "      <td>7515.90</td>\n",
       "      <td>False</td>\n",
       "      <td>26.355556</td>\n",
       "      <td>0.714586</td>\n",
       "      <td>7.092</td>\n",
       "    </tr>\n",
       "    <tr>\n",
       "      <th>3292</th>\n",
       "      <td>3292</td>\n",
       "      <td>6</td>\n",
       "      <td>A</td>\n",
       "      <td>56</td>\n",
       "      <td>2010-07-02</td>\n",
       "      <td>4149.20</td>\n",
       "      <td>False</td>\n",
       "      <td>26.855556</td>\n",
       "      <td>0.705076</td>\n",
       "      <td>6.973</td>\n",
       "    </tr>\n",
       "    <tr>\n",
       "      <th>3293</th>\n",
       "      <td>3293</td>\n",
       "      <td>6</td>\n",
       "      <td>A</td>\n",
       "      <td>56</td>\n",
       "      <td>2010-08-06</td>\n",
       "      <td>1639.70</td>\n",
       "      <td>False</td>\n",
       "      <td>30.338889</td>\n",
       "      <td>0.693980</td>\n",
       "      <td>6.973</td>\n",
       "    </tr>\n",
       "    <tr>\n",
       "      <th>3294</th>\n",
       "      <td>3294</td>\n",
       "      <td>6</td>\n",
       "      <td>A</td>\n",
       "      <td>56</td>\n",
       "      <td>2010-09-03</td>\n",
       "      <td>2172.08</td>\n",
       "      <td>False</td>\n",
       "      <td>27.861111</td>\n",
       "      <td>0.680772</td>\n",
       "      <td>6.973</td>\n",
       "    </tr>\n",
       "    <tr>\n",
       "      <th>10773</th>\n",
       "      <td>10773</td>\n",
       "      <td>39</td>\n",
       "      <td>A</td>\n",
       "      <td>99</td>\n",
       "      <td>2012-10-05</td>\n",
       "      <td>915.00</td>\n",
       "      <td>False</td>\n",
       "      <td>22.250000</td>\n",
       "      <td>0.955511</td>\n",
       "      <td>6.228</td>\n",
       "    </tr>\n",
       "  </tbody>\n",
       "</table>\n",
       "<p>10774 rows × 10 columns</p>\n",
       "</div>"
      ],
      "text/plain": [
       "       Unnamed: 0  store type  department        date  weekly_sales  \\\n",
       "4379         4379     10    B          87  2010-06-04      19530.92   \n",
       "3976         3976     10    B          33  2011-01-07      10566.11   \n",
       "3974         3974     10    B          33  2010-11-05      12468.98   \n",
       "3973         3973     10    B          33  2010-10-01       8663.69   \n",
       "3972         3972     10    B          33  2010-09-03       9555.57   \n",
       "...           ...    ...  ...         ...         ...           ...   \n",
       "3291         3291      6    A          56  2010-06-04       7515.90   \n",
       "3292         3292      6    A          56  2010-07-02       4149.20   \n",
       "3293         3293      6    A          56  2010-08-06       1639.70   \n",
       "3294         3294      6    A          56  2010-09-03       2172.08   \n",
       "10773       10773     39    A          99  2012-10-05        915.00   \n",
       "\n",
       "       is_holiday  temperature_c  fuel_price_usd_per_l  unemployment  \n",
       "4379        False      28.233333              0.776930         9.524  \n",
       "3976        False       6.350000              0.868334         8.744  \n",
       "3974        False      21.688889              0.794894         9.003  \n",
       "3973        False      30.005556              0.792781         9.003  \n",
       "3972        False      28.777778              0.815500         9.199  \n",
       "...           ...            ...                   ...           ...  \n",
       "3291        False      26.355556              0.714586         7.092  \n",
       "3292        False      26.855556              0.705076         6.973  \n",
       "3293        False      30.338889              0.693980         6.973  \n",
       "3294        False      27.861111              0.680772         6.973  \n",
       "10773       False      22.250000              0.955511         6.228  \n",
       "\n",
       "[10774 rows x 10 columns]"
      ]
     },
     "execution_count": 71,
     "metadata": {},
     "output_type": "execute_result"
    }
   ],
   "source": [
    "CircleK_type"
   ]
  },
  {
   "cell_type": "markdown",
   "metadata": {},
   "source": [
    "### f. Filter  CircleK_Sales for cases where fuel_price is greater than 0.70, assigning to  circle_fuel_price\n"
   ]
  },
  {
   "cell_type": "code",
   "execution_count": 72,
   "metadata": {},
   "outputs": [],
   "source": [
    "circle_fuel_price=CircleK_Sales.loc[CircleK_Sales['fuel_price_usd_per_l']>0.7]"
   ]
  },
  {
   "cell_type": "code",
   "execution_count": 75,
   "metadata": {},
   "outputs": [
    {
     "data": {
      "text/html": [
       "<div>\n",
       "<style scoped>\n",
       "    .dataframe tbody tr th:only-of-type {\n",
       "        vertical-align: middle;\n",
       "    }\n",
       "\n",
       "    .dataframe tbody tr th {\n",
       "        vertical-align: top;\n",
       "    }\n",
       "\n",
       "    .dataframe thead th {\n",
       "        text-align: right;\n",
       "    }\n",
       "</style>\n",
       "<table border=\"1\" class=\"dataframe\">\n",
       "  <thead>\n",
       "    <tr style=\"text-align: right;\">\n",
       "      <th></th>\n",
       "      <th>Unnamed: 0</th>\n",
       "      <th>store</th>\n",
       "      <th>type</th>\n",
       "      <th>department</th>\n",
       "      <th>date</th>\n",
       "      <th>weekly_sales</th>\n",
       "      <th>is_holiday</th>\n",
       "      <th>temperature_c</th>\n",
       "      <th>fuel_price_usd_per_l</th>\n",
       "      <th>unemployment</th>\n",
       "    </tr>\n",
       "  </thead>\n",
       "  <tbody>\n",
       "    <tr>\n",
       "      <th>2</th>\n",
       "      <td>2</td>\n",
       "      <td>1</td>\n",
       "      <td>A</td>\n",
       "      <td>1</td>\n",
       "      <td>2010-04-02</td>\n",
       "      <td>57258.43</td>\n",
       "      <td>False</td>\n",
       "      <td>16.816667</td>\n",
       "      <td>0.718284</td>\n",
       "      <td>7.808</td>\n",
       "    </tr>\n",
       "    <tr>\n",
       "      <th>3</th>\n",
       "      <td>3</td>\n",
       "      <td>1</td>\n",
       "      <td>A</td>\n",
       "      <td>1</td>\n",
       "      <td>2010-05-07</td>\n",
       "      <td>17413.94</td>\n",
       "      <td>False</td>\n",
       "      <td>22.527778</td>\n",
       "      <td>0.748928</td>\n",
       "      <td>7.808</td>\n",
       "    </tr>\n",
       "    <tr>\n",
       "      <th>4</th>\n",
       "      <td>4</td>\n",
       "      <td>1</td>\n",
       "      <td>A</td>\n",
       "      <td>1</td>\n",
       "      <td>2010-06-04</td>\n",
       "      <td>17558.09</td>\n",
       "      <td>False</td>\n",
       "      <td>27.050000</td>\n",
       "      <td>0.714586</td>\n",
       "      <td>7.808</td>\n",
       "    </tr>\n",
       "    <tr>\n",
       "      <th>5</th>\n",
       "      <td>5</td>\n",
       "      <td>1</td>\n",
       "      <td>A</td>\n",
       "      <td>1</td>\n",
       "      <td>2010-07-02</td>\n",
       "      <td>16333.14</td>\n",
       "      <td>False</td>\n",
       "      <td>27.172222</td>\n",
       "      <td>0.705076</td>\n",
       "      <td>7.787</td>\n",
       "    </tr>\n",
       "    <tr>\n",
       "      <th>9</th>\n",
       "      <td>9</td>\n",
       "      <td>1</td>\n",
       "      <td>A</td>\n",
       "      <td>1</td>\n",
       "      <td>2010-11-05</td>\n",
       "      <td>34238.88</td>\n",
       "      <td>False</td>\n",
       "      <td>14.855556</td>\n",
       "      <td>0.710359</td>\n",
       "      <td>7.838</td>\n",
       "    </tr>\n",
       "  </tbody>\n",
       "</table>\n",
       "</div>"
      ],
      "text/plain": [
       "   Unnamed: 0  store type  department        date  weekly_sales  is_holiday  \\\n",
       "2           2      1    A           1  2010-04-02      57258.43       False   \n",
       "3           3      1    A           1  2010-05-07      17413.94       False   \n",
       "4           4      1    A           1  2010-06-04      17558.09       False   \n",
       "5           5      1    A           1  2010-07-02      16333.14       False   \n",
       "9           9      1    A           1  2010-11-05      34238.88       False   \n",
       "\n",
       "   temperature_c  fuel_price_usd_per_l  unemployment  \n",
       "2      16.816667              0.718284         7.808  \n",
       "3      22.527778              0.748928         7.808  \n",
       "4      27.050000              0.714586         7.808  \n",
       "5      27.172222              0.705076         7.787  \n",
       "9      14.855556              0.710359         7.838  "
      ]
     },
     "execution_count": 75,
     "metadata": {},
     "output_type": "execute_result"
    }
   ],
   "source": [
    "circle_fuel_price[:5]"
   ]
  },
  {
   "cell_type": "markdown",
   "metadata": {},
   "source": [
    "### g. Filter  CircleK_Sales for cases where type is B and the day is Holiday, assigning to circle_type_hol\n"
   ]
  },
  {
   "cell_type": "code",
   "execution_count": 82,
   "metadata": {},
   "outputs": [],
   "source": [
    "circle_type_hol=CircleK_Sales.loc[(CircleK_Sales['type']==\"B\")&(CircleK_Sales['is_holiday']==True)]"
   ]
  },
  {
   "cell_type": "code",
   "execution_count": 83,
   "metadata": {},
   "outputs": [
    {
     "data": {
      "text/html": [
       "<div>\n",
       "<style scoped>\n",
       "    .dataframe tbody tr th:only-of-type {\n",
       "        vertical-align: middle;\n",
       "    }\n",
       "\n",
       "    .dataframe tbody tr th {\n",
       "        vertical-align: top;\n",
       "    }\n",
       "\n",
       "    .dataframe thead th {\n",
       "        text-align: right;\n",
       "    }\n",
       "</style>\n",
       "<table border=\"1\" class=\"dataframe\">\n",
       "  <thead>\n",
       "    <tr style=\"text-align: right;\">\n",
       "      <th></th>\n",
       "      <th>Unnamed: 0</th>\n",
       "      <th>store</th>\n",
       "      <th>type</th>\n",
       "      <th>department</th>\n",
       "      <th>date</th>\n",
       "      <th>weekly_sales</th>\n",
       "      <th>is_holiday</th>\n",
       "      <th>temperature_c</th>\n",
       "      <th>fuel_price_usd_per_l</th>\n",
       "      <th>unemployment</th>\n",
       "    </tr>\n",
       "  </thead>\n",
       "  <tbody>\n",
       "    <tr>\n",
       "      <th>4092</th>\n",
       "      <td>4092</td>\n",
       "      <td>10</td>\n",
       "      <td>B</td>\n",
       "      <td>45</td>\n",
       "      <td>2010-09-10</td>\n",
       "      <td>31.41</td>\n",
       "      <td>True</td>\n",
       "      <td>28.911111</td>\n",
       "      <td>0.782214</td>\n",
       "      <td>9.199</td>\n",
       "    </tr>\n",
       "    <tr>\n",
       "      <th>4295</th>\n",
       "      <td>4295</td>\n",
       "      <td>10</td>\n",
       "      <td>B</td>\n",
       "      <td>77</td>\n",
       "      <td>2011-11-25</td>\n",
       "      <td>1590.00</td>\n",
       "      <td>True</td>\n",
       "      <td>15.933333</td>\n",
       "      <td>0.993287</td>\n",
       "      <td>7.874</td>\n",
       "    </tr>\n",
       "  </tbody>\n",
       "</table>\n",
       "</div>"
      ],
      "text/plain": [
       "      Unnamed: 0  store type  department        date  weekly_sales  \\\n",
       "4092        4092     10    B          45  2010-09-10         31.41   \n",
       "4295        4295     10    B          77  2011-11-25       1590.00   \n",
       "\n",
       "      is_holiday  temperature_c  fuel_price_usd_per_l  unemployment  \n",
       "4092        True      28.911111              0.782214         9.199  \n",
       "4295        True      15.933333              0.993287         7.874  "
      ]
     },
     "execution_count": 83,
     "metadata": {},
     "output_type": "execute_result"
    }
   ],
   "source": [
    "circle_type_hol"
   ]
  },
  {
   "cell_type": "markdown",
   "metadata": {},
   "source": [
    "### h. Add a column to  CircleK_Sales namely amount_of_sales(gallon), containing the weekly_sales and fuel_price"
   ]
  },
  {
   "cell_type": "code",
   "execution_count": 95,
   "metadata": {},
   "outputs": [],
   "source": [
    "CircleK_Sales['amount_of_sales(gallon)']=''\n",
    "CircleK_Sales['amount_of_sales(gallon)']=CircleK_Sales['weekly_sales']*CircleK_Sales['fuel_price_usd_per_l']\n",
    "\n"
   ]
  },
  {
   "cell_type": "code",
   "execution_count": 96,
   "metadata": {},
   "outputs": [
    {
     "data": {
      "text/html": [
       "<div>\n",
       "<style scoped>\n",
       "    .dataframe tbody tr th:only-of-type {\n",
       "        vertical-align: middle;\n",
       "    }\n",
       "\n",
       "    .dataframe tbody tr th {\n",
       "        vertical-align: top;\n",
       "    }\n",
       "\n",
       "    .dataframe thead th {\n",
       "        text-align: right;\n",
       "    }\n",
       "</style>\n",
       "<table border=\"1\" class=\"dataframe\">\n",
       "  <thead>\n",
       "    <tr style=\"text-align: right;\">\n",
       "      <th></th>\n",
       "      <th>Unnamed: 0</th>\n",
       "      <th>store</th>\n",
       "      <th>type</th>\n",
       "      <th>department</th>\n",
       "      <th>date</th>\n",
       "      <th>weekly_sales</th>\n",
       "      <th>is_holiday</th>\n",
       "      <th>temperature_c</th>\n",
       "      <th>fuel_price_usd_per_l</th>\n",
       "      <th>unemployment</th>\n",
       "      <th>amount_of_sales(gallon)</th>\n",
       "    </tr>\n",
       "  </thead>\n",
       "  <tbody>\n",
       "    <tr>\n",
       "      <th>0</th>\n",
       "      <td>0</td>\n",
       "      <td>1</td>\n",
       "      <td>A</td>\n",
       "      <td>1</td>\n",
       "      <td>2010-02-05</td>\n",
       "      <td>24924.50</td>\n",
       "      <td>False</td>\n",
       "      <td>5.727778</td>\n",
       "      <td>0.679451</td>\n",
       "      <td>8.106</td>\n",
       "      <td>16934.972434</td>\n",
       "    </tr>\n",
       "    <tr>\n",
       "      <th>1</th>\n",
       "      <td>1</td>\n",
       "      <td>1</td>\n",
       "      <td>A</td>\n",
       "      <td>1</td>\n",
       "      <td>2010-03-05</td>\n",
       "      <td>21827.90</td>\n",
       "      <td>False</td>\n",
       "      <td>8.055556</td>\n",
       "      <td>0.693452</td>\n",
       "      <td>8.106</td>\n",
       "      <td>15136.600131</td>\n",
       "    </tr>\n",
       "    <tr>\n",
       "      <th>2</th>\n",
       "      <td>2</td>\n",
       "      <td>1</td>\n",
       "      <td>A</td>\n",
       "      <td>1</td>\n",
       "      <td>2010-04-02</td>\n",
       "      <td>57258.43</td>\n",
       "      <td>False</td>\n",
       "      <td>16.816667</td>\n",
       "      <td>0.718284</td>\n",
       "      <td>7.808</td>\n",
       "      <td>41127.822659</td>\n",
       "    </tr>\n",
       "  </tbody>\n",
       "</table>\n",
       "</div>"
      ],
      "text/plain": [
       "   Unnamed: 0  store type  department        date  weekly_sales  is_holiday  \\\n",
       "0           0      1    A           1  2010-02-05      24924.50       False   \n",
       "1           1      1    A           1  2010-03-05      21827.90       False   \n",
       "2           2      1    A           1  2010-04-02      57258.43       False   \n",
       "\n",
       "   temperature_c  fuel_price_usd_per_l  unemployment  amount_of_sales(gallon)  \n",
       "0       5.727778              0.679451         8.106             16934.972434  \n",
       "1       8.055556              0.693452         8.106             15136.600131  \n",
       "2      16.816667              0.718284         7.808             41127.822659  "
      ]
     },
     "execution_count": 96,
     "metadata": {},
     "output_type": "execute_result"
    }
   ],
   "source": [
    "CircleK_Sales[:3]"
   ]
  },
  {
   "cell_type": "markdown",
   "metadata": {},
   "source": [
    "###  Subset rows where amount_of_sales(gallon)is higher than 36000.0, assigning to high_sales"
   ]
  },
  {
   "cell_type": "code",
   "execution_count": 97,
   "metadata": {},
   "outputs": [],
   "source": [
    "high_sales=CircleK_Sales[CircleK_Sales['amount_of_sales(gallon)']>36000]"
   ]
  },
  {
   "cell_type": "code",
   "execution_count": 99,
   "metadata": {},
   "outputs": [
    {
     "data": {
      "text/html": [
       "<div>\n",
       "<style scoped>\n",
       "    .dataframe tbody tr th:only-of-type {\n",
       "        vertical-align: middle;\n",
       "    }\n",
       "\n",
       "    .dataframe tbody tr th {\n",
       "        vertical-align: top;\n",
       "    }\n",
       "\n",
       "    .dataframe thead th {\n",
       "        text-align: right;\n",
       "    }\n",
       "</style>\n",
       "<table border=\"1\" class=\"dataframe\">\n",
       "  <thead>\n",
       "    <tr style=\"text-align: right;\">\n",
       "      <th></th>\n",
       "      <th>Unnamed: 0</th>\n",
       "      <th>store</th>\n",
       "      <th>type</th>\n",
       "      <th>department</th>\n",
       "      <th>date</th>\n",
       "      <th>weekly_sales</th>\n",
       "      <th>is_holiday</th>\n",
       "      <th>temperature_c</th>\n",
       "      <th>fuel_price_usd_per_l</th>\n",
       "      <th>unemployment</th>\n",
       "      <th>amount_of_sales(gallon)</th>\n",
       "    </tr>\n",
       "  </thead>\n",
       "  <tbody>\n",
       "    <tr>\n",
       "      <th>2</th>\n",
       "      <td>2</td>\n",
       "      <td>1</td>\n",
       "      <td>A</td>\n",
       "      <td>1</td>\n",
       "      <td>2010-04-02</td>\n",
       "      <td>57258.43</td>\n",
       "      <td>False</td>\n",
       "      <td>16.816667</td>\n",
       "      <td>0.718284</td>\n",
       "      <td>7.808</td>\n",
       "      <td>41127.822659</td>\n",
       "    </tr>\n",
       "    <tr>\n",
       "      <th>171</th>\n",
       "      <td>171</td>\n",
       "      <td>1</td>\n",
       "      <td>A</td>\n",
       "      <td>16</td>\n",
       "      <td>2010-05-07</td>\n",
       "      <td>52933.20</td>\n",
       "      <td>False</td>\n",
       "      <td>22.527778</td>\n",
       "      <td>0.748928</td>\n",
       "      <td>7.808</td>\n",
       "      <td>39643.162035</td>\n",
       "    </tr>\n",
       "    <tr>\n",
       "      <th>201</th>\n",
       "      <td>201</td>\n",
       "      <td>1</td>\n",
       "      <td>A</td>\n",
       "      <td>18</td>\n",
       "      <td>2010-12-03</td>\n",
       "      <td>53845.12</td>\n",
       "      <td>False</td>\n",
       "      <td>9.594444</td>\n",
       "      <td>0.715378</td>\n",
       "      <td>7.838</td>\n",
       "      <td>38519.627982</td>\n",
       "    </tr>\n",
       "  </tbody>\n",
       "</table>\n",
       "</div>"
      ],
      "text/plain": [
       "     Unnamed: 0  store type  department        date  weekly_sales  is_holiday  \\\n",
       "2             2      1    A           1  2010-04-02      57258.43       False   \n",
       "171         171      1    A          16  2010-05-07      52933.20       False   \n",
       "201         201      1    A          18  2010-12-03      53845.12       False   \n",
       "\n",
       "     temperature_c  fuel_price_usd_per_l  unemployment  \\\n",
       "2        16.816667              0.718284         7.808   \n",
       "171      22.527778              0.748928         7.808   \n",
       "201       9.594444              0.715378         7.838   \n",
       "\n",
       "     amount_of_sales(gallon)  \n",
       "2               41127.822659  \n",
       "171             39643.162035  \n",
       "201             38519.627982  "
      ]
     },
     "execution_count": 99,
     "metadata": {},
     "output_type": "execute_result"
    }
   ],
   "source": [
    "high_sales[:3]"
   ]
  },
  {
   "cell_type": "code",
   "execution_count": null,
   "metadata": {},
   "outputs": [],
   "source": []
  },
  {
   "cell_type": "markdown",
   "metadata": {},
   "source": [
    "## 10 Please find the data set attached in the format of CSV (allcovidtables.csv) from the unknown data source for the purposes of creating better training sets, use the pandas’ library to load this dataset and write a regular expression to do the following tasks"
   ]
  },
  {
   "cell_type": "markdown",
   "metadata": {},
   "source": [
    "### •\tNumerical ranges ex: 0-1, 0.2 -0.5 replace with word RANGE "
   ]
  },
  {
   "cell_type": "code",
   "execution_count": 110,
   "metadata": {},
   "outputs": [],
   "source": [
    "allcovidtables=pd.read_csv('/Users/yoga/Dropbox/0 FSU/5_2023_spring/3 CAP intro to data science/assignment/Introduction to Data Science assignment1/allcovidtables.csv')"
   ]
  },
  {
   "cell_type": "code",
   "execution_count": 244,
   "metadata": {},
   "outputs": [
    {
     "data": {
      "text/html": [
       "<div>\n",
       "<style scoped>\n",
       "    .dataframe tbody tr th:only-of-type {\n",
       "        vertical-align: middle;\n",
       "    }\n",
       "\n",
       "    .dataframe tbody tr th {\n",
       "        vertical-align: top;\n",
       "    }\n",
       "\n",
       "    .dataframe thead th {\n",
       "        text-align: right;\n",
       "    }\n",
       "</style>\n",
       "<table border=\"1\" class=\"dataframe\">\n",
       "  <thead>\n",
       "    <tr style=\"text-align: right;\">\n",
       "      <th></th>\n",
       "      <th>Unnamed: 0</th>\n",
       "      <th>_id</th>\n",
       "      <th>meta_h</th>\n",
       "      <th>meta_v</th>\n",
       "      <th>data</th>\n",
       "      <th>label</th>\n",
       "    </tr>\n",
       "  </thead>\n",
       "  <tbody>\n",
       "    <tr>\n",
       "      <th>0</th>\n",
       "      <td>1</td>\n",
       "      <td>62d6d4eb65561b91762be735</td>\n",
       "      <td>['Variable', 'Frequency (%)', 'Age Groups:']</td>\n",
       "      <td>['\"0-1 year\"']</td>\n",
       "      <td>['13 (32.5)']</td>\n",
       "      <td>1</td>\n",
       "    </tr>\n",
       "    <tr>\n",
       "      <th>1</th>\n",
       "      <td>2</td>\n",
       "      <td>62d6d4eb65561b91762be735</td>\n",
       "      <td>['Variable', 'Frequency (%)', 'Age Groups:']</td>\n",
       "      <td>['\"1.1-5 year\"']</td>\n",
       "      <td>['9 (22.5)']</td>\n",
       "      <td>1</td>\n",
       "    </tr>\n",
       "    <tr>\n",
       "      <th>2</th>\n",
       "      <td>3</td>\n",
       "      <td>62d6d4eb65561b91762be735</td>\n",
       "      <td>['Variable', 'Frequency (%)', 'Age Groups:']</td>\n",
       "      <td>['\"5.1-15 year\"']</td>\n",
       "      <td>['5 (12.5)']</td>\n",
       "      <td>1</td>\n",
       "    </tr>\n",
       "  </tbody>\n",
       "</table>\n",
       "</div>"
      ],
      "text/plain": [
       "   Unnamed: 0                       _id  \\\n",
       "0           1  62d6d4eb65561b91762be735   \n",
       "1           2  62d6d4eb65561b91762be735   \n",
       "2           3  62d6d4eb65561b91762be735   \n",
       "\n",
       "                                         meta_h             meta_v  \\\n",
       "0  ['Variable', 'Frequency (%)', 'Age Groups:']     ['\"0-1 year\"']   \n",
       "1  ['Variable', 'Frequency (%)', 'Age Groups:']   ['\"1.1-5 year\"']   \n",
       "2  ['Variable', 'Frequency (%)', 'Age Groups:']  ['\"5.1-15 year\"']   \n",
       "\n",
       "            data  label  \n",
       "0  ['13 (32.5)']      1  \n",
       "1   ['9 (22.5)']      1  \n",
       "2   ['5 (12.5)']      1  "
      ]
     },
     "execution_count": 244,
     "metadata": {},
     "output_type": "execute_result"
    }
   ],
   "source": [
    "allcovidtables[:3]"
   ]
  },
  {
   "cell_type": "code",
   "execution_count": 246,
   "metadata": {},
   "outputs": [],
   "source": [
    "# new_text = re.sub(r'\\d+\\.\\d+-\\d+', \"Range\", text)\n",
    "# new_text1 = re.sub(r'\\d+\\.\\d+-\\d+\\.\\d+', \"Range\", '1.5-3.45')\n",
    "# match = re.search(r'\\d+\\.\\d+-\\d+\\.\\d+', text)"
   ]
  },
  {
   "cell_type": "code",
   "execution_count": null,
   "metadata": {},
   "outputs": [],
   "source": []
  },
  {
   "cell_type": "code",
   "execution_count": 247,
   "metadata": {},
   "outputs": [],
   "source": [
    "# for i in range(len(allcovidtables)):\n",
    "#     meta_v_i=allcovidtables['meta_v'][i]\n",
    "#     meta_v_i_new=re.sub(r'\\d+(\\.\\d+)?-\\d+(\\.\\d+)?', \"RANGE\", meta_v_i)\n",
    "#     allcovidtables['meta_v'][i]=meta_v_i_new\n",
    "    \n",
    "\n",
    "def numerical_ranges(number):\n",
    "    if isinstance(number, str):\n",
    "        return re.sub(r'\\d+(\\.\\d+)?\\s*-\\s*\\d+(\\.\\d+)?', \"RANGE\", number)\n",
    "    return number\n",
    "\n",
    "allcovidtables2 = allcovidtables.applymap(numerical_ranges)\n",
    "    "
   ]
  },
  {
   "cell_type": "code",
   "execution_count": 248,
   "metadata": {},
   "outputs": [
    {
     "data": {
      "text/html": [
       "<div>\n",
       "<style scoped>\n",
       "    .dataframe tbody tr th:only-of-type {\n",
       "        vertical-align: middle;\n",
       "    }\n",
       "\n",
       "    .dataframe tbody tr th {\n",
       "        vertical-align: top;\n",
       "    }\n",
       "\n",
       "    .dataframe thead th {\n",
       "        text-align: right;\n",
       "    }\n",
       "</style>\n",
       "<table border=\"1\" class=\"dataframe\">\n",
       "  <thead>\n",
       "    <tr style=\"text-align: right;\">\n",
       "      <th></th>\n",
       "      <th>Unnamed: 0</th>\n",
       "      <th>_id</th>\n",
       "      <th>meta_h</th>\n",
       "      <th>meta_v</th>\n",
       "      <th>data</th>\n",
       "      <th>label</th>\n",
       "    </tr>\n",
       "  </thead>\n",
       "  <tbody>\n",
       "    <tr>\n",
       "      <th>0</th>\n",
       "      <td>1</td>\n",
       "      <td>62d6d4eb65561b91762be735</td>\n",
       "      <td>['Variable', 'Frequency (%)', 'Age Groups:']</td>\n",
       "      <td>['\"RANGE year\"']</td>\n",
       "      <td>['13 (32.5)']</td>\n",
       "      <td>1</td>\n",
       "    </tr>\n",
       "    <tr>\n",
       "      <th>1</th>\n",
       "      <td>2</td>\n",
       "      <td>62d6d4eb65561b91762be735</td>\n",
       "      <td>['Variable', 'Frequency (%)', 'Age Groups:']</td>\n",
       "      <td>['\"RANGE year\"']</td>\n",
       "      <td>['9 (22.5)']</td>\n",
       "      <td>1</td>\n",
       "    </tr>\n",
       "    <tr>\n",
       "      <th>2</th>\n",
       "      <td>3</td>\n",
       "      <td>62d6d4eb65561b91762be735</td>\n",
       "      <td>['Variable', 'Frequency (%)', 'Age Groups:']</td>\n",
       "      <td>['\"RANGE year\"']</td>\n",
       "      <td>['5 (12.5)']</td>\n",
       "      <td>1</td>\n",
       "    </tr>\n",
       "    <tr>\n",
       "      <th>3</th>\n",
       "      <td>4</td>\n",
       "      <td>62d6d4eb65561b91762be735</td>\n",
       "      <td>['Variable', 'Frequency (%)', 'Age Groups:']</td>\n",
       "      <td>['\"RANGE year\"']</td>\n",
       "      <td>['1 (2.5)']</td>\n",
       "      <td>1</td>\n",
       "    </tr>\n",
       "    <tr>\n",
       "      <th>4</th>\n",
       "      <td>5</td>\n",
       "      <td>62d6d4eb65561b91762be735</td>\n",
       "      <td>['Variable', 'Frequency (%)', 'Age Groups:']</td>\n",
       "      <td>['\"RANGE year\"']</td>\n",
       "      <td>['5 (12.5)']</td>\n",
       "      <td>1</td>\n",
       "    </tr>\n",
       "    <tr>\n",
       "      <th>...</th>\n",
       "      <td>...</td>\n",
       "      <td>...</td>\n",
       "      <td>...</td>\n",
       "      <td>...</td>\n",
       "      <td>...</td>\n",
       "      <td>...</td>\n",
       "    </tr>\n",
       "    <tr>\n",
       "      <th>1373237</th>\n",
       "      <td>1373238</td>\n",
       "      <td>62d6d9f165561b917632066e</td>\n",
       "      <td>['Monitoring, No', 'Positive, No.', 'Influenza...</td>\n",
       "      <td>['\"\"']</td>\n",
       "      <td>['After', '126199', '(121.7%)*', '28644 (106.4...</td>\n",
       "      <td>1</td>\n",
       "    </tr>\n",
       "    <tr>\n",
       "      <th>1373238</th>\n",
       "      <td>1373239</td>\n",
       "      <td>62d6d9f165561b917632066e</td>\n",
       "      <td>['Monitoring, No', 'Positive, No.', 'Influenza...</td>\n",
       "      <td>['\"\"']</td>\n",
       "      <td>['Sum', '224633', '', '55573', '40068', '15505...</td>\n",
       "      <td>1</td>\n",
       "    </tr>\n",
       "    <tr>\n",
       "      <th>1373239</th>\n",
       "      <td>1373240</td>\n",
       "      <td>62d6d9f165561b917632066e</td>\n",
       "      <td>['Monitoring, No', 'Positive, No.', 'Influenza...</td>\n",
       "      <td>['\"RANGE\"']</td>\n",
       "      <td>['Before', '107968', '', '35570', '16884', '18...</td>\n",
       "      <td>1</td>\n",
       "    </tr>\n",
       "    <tr>\n",
       "      <th>1373240</th>\n",
       "      <td>1373241</td>\n",
       "      <td>62d6d9f165561b917632066e</td>\n",
       "      <td>['Monitoring, No', 'Positive, No.', 'Influenza...</td>\n",
       "      <td>['\"\"']</td>\n",
       "      <td>['After', '52696', '(48.8%)*', '9997 (28.1%)*'...</td>\n",
       "      <td>1</td>\n",
       "    </tr>\n",
       "    <tr>\n",
       "      <th>1373241</th>\n",
       "      <td>1373242</td>\n",
       "      <td>62d6d9f165561b917632066e</td>\n",
       "      <td>['Monitoring, No', 'Positive, No.', 'Influenza...</td>\n",
       "      <td>['\"\"']</td>\n",
       "      <td>['', '', 'Sum', '160664', '45567', '23437', '2...</td>\n",
       "      <td>1</td>\n",
       "    </tr>\n",
       "  </tbody>\n",
       "</table>\n",
       "<p>1373242 rows × 6 columns</p>\n",
       "</div>"
      ],
      "text/plain": [
       "         Unnamed: 0                       _id  \\\n",
       "0                 1  62d6d4eb65561b91762be735   \n",
       "1                 2  62d6d4eb65561b91762be735   \n",
       "2                 3  62d6d4eb65561b91762be735   \n",
       "3                 4  62d6d4eb65561b91762be735   \n",
       "4                 5  62d6d4eb65561b91762be735   \n",
       "...             ...                       ...   \n",
       "1373237     1373238  62d6d9f165561b917632066e   \n",
       "1373238     1373239  62d6d9f165561b917632066e   \n",
       "1373239     1373240  62d6d9f165561b917632066e   \n",
       "1373240     1373241  62d6d9f165561b917632066e   \n",
       "1373241     1373242  62d6d9f165561b917632066e   \n",
       "\n",
       "                                                    meta_h            meta_v  \\\n",
       "0             ['Variable', 'Frequency (%)', 'Age Groups:']  ['\"RANGE year\"']   \n",
       "1             ['Variable', 'Frequency (%)', 'Age Groups:']  ['\"RANGE year\"']   \n",
       "2             ['Variable', 'Frequency (%)', 'Age Groups:']  ['\"RANGE year\"']   \n",
       "3             ['Variable', 'Frequency (%)', 'Age Groups:']  ['\"RANGE year\"']   \n",
       "4             ['Variable', 'Frequency (%)', 'Age Groups:']  ['\"RANGE year\"']   \n",
       "...                                                    ...               ...   \n",
       "1373237  ['Monitoring, No', 'Positive, No.', 'Influenza...            ['\"\"']   \n",
       "1373238  ['Monitoring, No', 'Positive, No.', 'Influenza...            ['\"\"']   \n",
       "1373239  ['Monitoring, No', 'Positive, No.', 'Influenza...       ['\"RANGE\"']   \n",
       "1373240  ['Monitoring, No', 'Positive, No.', 'Influenza...            ['\"\"']   \n",
       "1373241  ['Monitoring, No', 'Positive, No.', 'Influenza...            ['\"\"']   \n",
       "\n",
       "                                                      data  label  \n",
       "0                                            ['13 (32.5)']      1  \n",
       "1                                             ['9 (22.5)']      1  \n",
       "2                                             ['5 (12.5)']      1  \n",
       "3                                              ['1 (2.5)']      1  \n",
       "4                                             ['5 (12.5)']      1  \n",
       "...                                                    ...    ...  \n",
       "1373237  ['After', '126199', '(121.7%)*', '28644 (106.4...      1  \n",
       "1373238  ['Sum', '224633', '', '55573', '40068', '15505...      1  \n",
       "1373239  ['Before', '107968', '', '35570', '16884', '18...      1  \n",
       "1373240  ['After', '52696', '(48.8%)*', '9997 (28.1%)*'...      1  \n",
       "1373241  ['', '', 'Sum', '160664', '45567', '23437', '2...      1  \n",
       "\n",
       "[1373242 rows x 6 columns]"
      ]
     },
     "execution_count": 248,
     "metadata": {},
     "output_type": "execute_result"
    }
   ],
   "source": [
    "allcovidtables2"
   ]
  },
  {
   "cell_type": "code",
   "execution_count": null,
   "metadata": {},
   "outputs": [],
   "source": []
  },
  {
   "cell_type": "markdown",
   "metadata": {},
   "source": [
    "### •\tNegative numbers ex: -1, -0.5 replace with the word NEG"
   ]
  },
  {
   "cell_type": "code",
   "execution_count": 249,
   "metadata": {},
   "outputs": [],
   "source": [
    "allcovidtables=pd.read_csv('/Users/yoga/Dropbox/0 FSU/5_2023_spring/3 CAP intro to data science/assignment/Introduction to Data Science assignment1/allcovidtables.csv')"
   ]
  },
  {
   "cell_type": "code",
   "execution_count": 254,
   "metadata": {},
   "outputs": [],
   "source": [
    "def negative(number):\n",
    "    if isinstance(number, (int,float)):\n",
    "        if number<0:\n",
    "            return \"NEG\"\n",
    "        return number\n",
    "        \n",
    "allcovidtables3 = allcovidtables.applymap(negative)\n",
    "\n",
    "\n",
    "\n",
    "\n"
   ]
  },
  {
   "cell_type": "code",
   "execution_count": 256,
   "metadata": {},
   "outputs": [
    {
     "data": {
      "text/html": [
       "<div>\n",
       "<style scoped>\n",
       "    .dataframe tbody tr th:only-of-type {\n",
       "        vertical-align: middle;\n",
       "    }\n",
       "\n",
       "    .dataframe tbody tr th {\n",
       "        vertical-align: top;\n",
       "    }\n",
       "\n",
       "    .dataframe thead th {\n",
       "        text-align: right;\n",
       "    }\n",
       "</style>\n",
       "<table border=\"1\" class=\"dataframe\">\n",
       "  <thead>\n",
       "    <tr style=\"text-align: right;\">\n",
       "      <th></th>\n",
       "      <th>Unnamed: 0</th>\n",
       "      <th>_id</th>\n",
       "      <th>meta_h</th>\n",
       "      <th>meta_v</th>\n",
       "      <th>data</th>\n",
       "      <th>label</th>\n",
       "    </tr>\n",
       "  </thead>\n",
       "  <tbody>\n",
       "    <tr>\n",
       "      <th>0</th>\n",
       "      <td>1</td>\n",
       "      <td>62d6d4eb65561b91762be735</td>\n",
       "      <td>['Variable', 'Frequency (%)', 'Age Groups:']</td>\n",
       "      <td>['\"0-1 year\"']</td>\n",
       "      <td>['13 (32.5)']</td>\n",
       "      <td>1</td>\n",
       "    </tr>\n",
       "    <tr>\n",
       "      <th>1</th>\n",
       "      <td>2</td>\n",
       "      <td>62d6d4eb65561b91762be735</td>\n",
       "      <td>['Variable', 'Frequency (%)', 'Age Groups:']</td>\n",
       "      <td>['\"1.1-5 year\"']</td>\n",
       "      <td>['9 (22.5)']</td>\n",
       "      <td>1</td>\n",
       "    </tr>\n",
       "    <tr>\n",
       "      <th>2</th>\n",
       "      <td>3</td>\n",
       "      <td>62d6d4eb65561b91762be735</td>\n",
       "      <td>['Variable', 'Frequency (%)', 'Age Groups:']</td>\n",
       "      <td>['\"5.1-15 year\"']</td>\n",
       "      <td>['5 (12.5)']</td>\n",
       "      <td>1</td>\n",
       "    </tr>\n",
       "    <tr>\n",
       "      <th>3</th>\n",
       "      <td>4</td>\n",
       "      <td>62d6d4eb65561b91762be735</td>\n",
       "      <td>['Variable', 'Frequency (%)', 'Age Groups:']</td>\n",
       "      <td>['\"15.1-30 year\"']</td>\n",
       "      <td>['1 (2.5)']</td>\n",
       "      <td>1</td>\n",
       "    </tr>\n",
       "    <tr>\n",
       "      <th>4</th>\n",
       "      <td>5</td>\n",
       "      <td>62d6d4eb65561b91762be735</td>\n",
       "      <td>['Variable', 'Frequency (%)', 'Age Groups:']</td>\n",
       "      <td>['\"30.1 -50 year\"']</td>\n",
       "      <td>['5 (12.5)']</td>\n",
       "      <td>1</td>\n",
       "    </tr>\n",
       "  </tbody>\n",
       "</table>\n",
       "</div>"
      ],
      "text/plain": [
       "   Unnamed: 0                       _id  \\\n",
       "0           1  62d6d4eb65561b91762be735   \n",
       "1           2  62d6d4eb65561b91762be735   \n",
       "2           3  62d6d4eb65561b91762be735   \n",
       "3           4  62d6d4eb65561b91762be735   \n",
       "4           5  62d6d4eb65561b91762be735   \n",
       "\n",
       "                                         meta_h               meta_v  \\\n",
       "0  ['Variable', 'Frequency (%)', 'Age Groups:']       ['\"0-1 year\"']   \n",
       "1  ['Variable', 'Frequency (%)', 'Age Groups:']     ['\"1.1-5 year\"']   \n",
       "2  ['Variable', 'Frequency (%)', 'Age Groups:']    ['\"5.1-15 year\"']   \n",
       "3  ['Variable', 'Frequency (%)', 'Age Groups:']   ['\"15.1-30 year\"']   \n",
       "4  ['Variable', 'Frequency (%)', 'Age Groups:']  ['\"30.1 -50 year\"']   \n",
       "\n",
       "            data  label  \n",
       "0  ['13 (32.5)']      1  \n",
       "1   ['9 (22.5)']      1  \n",
       "2   ['5 (12.5)']      1  \n",
       "3    ['1 (2.5)']      1  \n",
       "4   ['5 (12.5)']      1  "
      ]
     },
     "execution_count": 256,
     "metadata": {},
     "output_type": "execute_result"
    }
   ],
   "source": [
    "allcovidtables[:5]"
   ]
  },
  {
   "cell_type": "code",
   "execution_count": null,
   "metadata": {},
   "outputs": [],
   "source": []
  },
  {
   "cell_type": "markdown",
   "metadata": {},
   "source": [
    "### •\tFloating numbers ex: 0.02,0.009 replaced with the word FLOAT"
   ]
  },
  {
   "cell_type": "code",
   "execution_count": 259,
   "metadata": {},
   "outputs": [],
   "source": [
    "# def replace_floats(number):\n",
    "#     if isinstance(number, (int, float)):\n",
    "#         if isinstance(number, float):\n",
    "#             return \"FLOAT\"\n",
    "#     return number\n",
    "\n",
    "def replace_floats(number):\n",
    "    if isinstance(number, str):\n",
    "        return re.sub(r'\\d+\\.\\d+', \"FLOAT\", number)\n",
    "    return number\n",
    "\n",
    "\n",
    "\n",
    "allcovidtables4 = allcovidtables.applymap(replace_floats)"
   ]
  },
  {
   "cell_type": "code",
   "execution_count": 261,
   "metadata": {},
   "outputs": [
    {
     "data": {
      "text/html": [
       "<div>\n",
       "<style scoped>\n",
       "    .dataframe tbody tr th:only-of-type {\n",
       "        vertical-align: middle;\n",
       "    }\n",
       "\n",
       "    .dataframe tbody tr th {\n",
       "        vertical-align: top;\n",
       "    }\n",
       "\n",
       "    .dataframe thead th {\n",
       "        text-align: right;\n",
       "    }\n",
       "</style>\n",
       "<table border=\"1\" class=\"dataframe\">\n",
       "  <thead>\n",
       "    <tr style=\"text-align: right;\">\n",
       "      <th></th>\n",
       "      <th>Unnamed: 0</th>\n",
       "      <th>_id</th>\n",
       "      <th>meta_h</th>\n",
       "      <th>meta_v</th>\n",
       "      <th>data</th>\n",
       "      <th>label</th>\n",
       "    </tr>\n",
       "  </thead>\n",
       "  <tbody>\n",
       "    <tr>\n",
       "      <th>0</th>\n",
       "      <td>1</td>\n",
       "      <td>62d6d4eb65561b91762be735</td>\n",
       "      <td>['Variable', 'Frequency (%)', 'Age Groups:']</td>\n",
       "      <td>['\"0-1 year\"']</td>\n",
       "      <td>['13 (FLOAT)']</td>\n",
       "      <td>1</td>\n",
       "    </tr>\n",
       "    <tr>\n",
       "      <th>1</th>\n",
       "      <td>2</td>\n",
       "      <td>62d6d4eb65561b91762be735</td>\n",
       "      <td>['Variable', 'Frequency (%)', 'Age Groups:']</td>\n",
       "      <td>['\"FLOAT-5 year\"']</td>\n",
       "      <td>['9 (FLOAT)']</td>\n",
       "      <td>1</td>\n",
       "    </tr>\n",
       "    <tr>\n",
       "      <th>2</th>\n",
       "      <td>3</td>\n",
       "      <td>62d6d4eb65561b91762be735</td>\n",
       "      <td>['Variable', 'Frequency (%)', 'Age Groups:']</td>\n",
       "      <td>['\"FLOAT-15 year\"']</td>\n",
       "      <td>['5 (FLOAT)']</td>\n",
       "      <td>1</td>\n",
       "    </tr>\n",
       "    <tr>\n",
       "      <th>3</th>\n",
       "      <td>4</td>\n",
       "      <td>62d6d4eb65561b91762be735</td>\n",
       "      <td>['Variable', 'Frequency (%)', 'Age Groups:']</td>\n",
       "      <td>['\"FLOAT-30 year\"']</td>\n",
       "      <td>['1 (FLOAT)']</td>\n",
       "      <td>1</td>\n",
       "    </tr>\n",
       "    <tr>\n",
       "      <th>4</th>\n",
       "      <td>5</td>\n",
       "      <td>62d6d4eb65561b91762be735</td>\n",
       "      <td>['Variable', 'Frequency (%)', 'Age Groups:']</td>\n",
       "      <td>['\"FLOAT -50 year\"']</td>\n",
       "      <td>['5 (FLOAT)']</td>\n",
       "      <td>1</td>\n",
       "    </tr>\n",
       "  </tbody>\n",
       "</table>\n",
       "</div>"
      ],
      "text/plain": [
       "   Unnamed: 0                       _id  \\\n",
       "0           1  62d6d4eb65561b91762be735   \n",
       "1           2  62d6d4eb65561b91762be735   \n",
       "2           3  62d6d4eb65561b91762be735   \n",
       "3           4  62d6d4eb65561b91762be735   \n",
       "4           5  62d6d4eb65561b91762be735   \n",
       "\n",
       "                                         meta_h                meta_v  \\\n",
       "0  ['Variable', 'Frequency (%)', 'Age Groups:']        ['\"0-1 year\"']   \n",
       "1  ['Variable', 'Frequency (%)', 'Age Groups:']    ['\"FLOAT-5 year\"']   \n",
       "2  ['Variable', 'Frequency (%)', 'Age Groups:']   ['\"FLOAT-15 year\"']   \n",
       "3  ['Variable', 'Frequency (%)', 'Age Groups:']   ['\"FLOAT-30 year\"']   \n",
       "4  ['Variable', 'Frequency (%)', 'Age Groups:']  ['\"FLOAT -50 year\"']   \n",
       "\n",
       "             data  label  \n",
       "0  ['13 (FLOAT)']      1  \n",
       "1   ['9 (FLOAT)']      1  \n",
       "2   ['5 (FLOAT)']      1  \n",
       "3   ['1 (FLOAT)']      1  \n",
       "4   ['5 (FLOAT)']      1  "
      ]
     },
     "execution_count": 261,
     "metadata": {},
     "output_type": "execute_result"
    }
   ],
   "source": [
    "allcovidtables4[:5]"
   ]
  },
  {
   "cell_type": "markdown",
   "metadata": {},
   "source": [
    "### •\tNumbers ex: 1, 9,250 replace with the word INT"
   ]
  },
  {
   "cell_type": "code",
   "execution_count": 272,
   "metadata": {},
   "outputs": [],
   "source": [
    "def replace_int(number):\n",
    "    if isinstance(number, str):\n",
    "        return re.sub(r'(?!\\.)\\b\\d+\\b(?!\\.)', \"INT\", number)\n",
    "    return number\n",
    "\n",
    "\n",
    "\n",
    "allcovidtables5 = allcovidtables.applymap(replace_int)"
   ]
  },
  {
   "cell_type": "code",
   "execution_count": 273,
   "metadata": {},
   "outputs": [
    {
     "data": {
      "text/html": [
       "<div>\n",
       "<style scoped>\n",
       "    .dataframe tbody tr th:only-of-type {\n",
       "        vertical-align: middle;\n",
       "    }\n",
       "\n",
       "    .dataframe tbody tr th {\n",
       "        vertical-align: top;\n",
       "    }\n",
       "\n",
       "    .dataframe thead th {\n",
       "        text-align: right;\n",
       "    }\n",
       "</style>\n",
       "<table border=\"1\" class=\"dataframe\">\n",
       "  <thead>\n",
       "    <tr style=\"text-align: right;\">\n",
       "      <th></th>\n",
       "      <th>Unnamed: 0</th>\n",
       "      <th>_id</th>\n",
       "      <th>meta_h</th>\n",
       "      <th>meta_v</th>\n",
       "      <th>data</th>\n",
       "      <th>label</th>\n",
       "    </tr>\n",
       "  </thead>\n",
       "  <tbody>\n",
       "    <tr>\n",
       "      <th>0</th>\n",
       "      <td>1</td>\n",
       "      <td>62d6d4eb65561b91762be735</td>\n",
       "      <td>['Variable', 'Frequency (%)', 'Age Groups:']</td>\n",
       "      <td>['\"INT-INT year\"']</td>\n",
       "      <td>['INT (32.INT)']</td>\n",
       "      <td>1</td>\n",
       "    </tr>\n",
       "    <tr>\n",
       "      <th>1</th>\n",
       "      <td>2</td>\n",
       "      <td>62d6d4eb65561b91762be735</td>\n",
       "      <td>['Variable', 'Frequency (%)', 'Age Groups:']</td>\n",
       "      <td>['\"1.INT-INT year\"']</td>\n",
       "      <td>['INT (22.INT)']</td>\n",
       "      <td>1</td>\n",
       "    </tr>\n",
       "    <tr>\n",
       "      <th>2</th>\n",
       "      <td>3</td>\n",
       "      <td>62d6d4eb65561b91762be735</td>\n",
       "      <td>['Variable', 'Frequency (%)', 'Age Groups:']</td>\n",
       "      <td>['\"5.INT-INT year\"']</td>\n",
       "      <td>['INT (12.INT)']</td>\n",
       "      <td>1</td>\n",
       "    </tr>\n",
       "    <tr>\n",
       "      <th>3</th>\n",
       "      <td>4</td>\n",
       "      <td>62d6d4eb65561b91762be735</td>\n",
       "      <td>['Variable', 'Frequency (%)', 'Age Groups:']</td>\n",
       "      <td>['\"15.INT-INT year\"']</td>\n",
       "      <td>['INT (2.INT)']</td>\n",
       "      <td>1</td>\n",
       "    </tr>\n",
       "    <tr>\n",
       "      <th>4</th>\n",
       "      <td>5</td>\n",
       "      <td>62d6d4eb65561b91762be735</td>\n",
       "      <td>['Variable', 'Frequency (%)', 'Age Groups:']</td>\n",
       "      <td>['\"30.INT -INT year\"']</td>\n",
       "      <td>['INT (12.INT)']</td>\n",
       "      <td>1</td>\n",
       "    </tr>\n",
       "  </tbody>\n",
       "</table>\n",
       "</div>"
      ],
      "text/plain": [
       "   Unnamed: 0                       _id  \\\n",
       "0           1  62d6d4eb65561b91762be735   \n",
       "1           2  62d6d4eb65561b91762be735   \n",
       "2           3  62d6d4eb65561b91762be735   \n",
       "3           4  62d6d4eb65561b91762be735   \n",
       "4           5  62d6d4eb65561b91762be735   \n",
       "\n",
       "                                         meta_h                  meta_v  \\\n",
       "0  ['Variable', 'Frequency (%)', 'Age Groups:']      ['\"INT-INT year\"']   \n",
       "1  ['Variable', 'Frequency (%)', 'Age Groups:']    ['\"1.INT-INT year\"']   \n",
       "2  ['Variable', 'Frequency (%)', 'Age Groups:']    ['\"5.INT-INT year\"']   \n",
       "3  ['Variable', 'Frequency (%)', 'Age Groups:']   ['\"15.INT-INT year\"']   \n",
       "4  ['Variable', 'Frequency (%)', 'Age Groups:']  ['\"30.INT -INT year\"']   \n",
       "\n",
       "               data  label  \n",
       "0  ['INT (32.INT)']      1  \n",
       "1  ['INT (22.INT)']      1  \n",
       "2  ['INT (12.INT)']      1  \n",
       "3   ['INT (2.INT)']      1  \n",
       "4  ['INT (12.INT)']      1  "
      ]
     },
     "execution_count": 273,
     "metadata": {},
     "output_type": "execute_result"
    }
   ],
   "source": [
    "allcovidtables5[:5]"
   ]
  },
  {
   "cell_type": "markdown",
   "metadata": {},
   "source": [
    "### •\tPercentages ex: 10%,0.35% replace with the word PERCENT\n"
   ]
  },
  {
   "cell_type": "code",
   "execution_count": 275,
   "metadata": {},
   "outputs": [],
   "source": [
    "def replace_Percentages(number):\n",
    "    if isinstance(number, str):\n",
    "        return re.sub(r'\\b\\d+(\\.\\d+)?%', \"PERCENT\", number)\n",
    "    return number\n",
    "\n",
    "    \n",
    "allcovidtables6 = allcovidtables.applymap(replace_Percentages)   \n",
    "    "
   ]
  },
  {
   "cell_type": "code",
   "execution_count": 276,
   "metadata": {},
   "outputs": [
    {
     "data": {
      "text/html": [
       "<div>\n",
       "<style scoped>\n",
       "    .dataframe tbody tr th:only-of-type {\n",
       "        vertical-align: middle;\n",
       "    }\n",
       "\n",
       "    .dataframe tbody tr th {\n",
       "        vertical-align: top;\n",
       "    }\n",
       "\n",
       "    .dataframe thead th {\n",
       "        text-align: right;\n",
       "    }\n",
       "</style>\n",
       "<table border=\"1\" class=\"dataframe\">\n",
       "  <thead>\n",
       "    <tr style=\"text-align: right;\">\n",
       "      <th></th>\n",
       "      <th>Unnamed: 0</th>\n",
       "      <th>_id</th>\n",
       "      <th>meta_h</th>\n",
       "      <th>meta_v</th>\n",
       "      <th>data</th>\n",
       "      <th>label</th>\n",
       "    </tr>\n",
       "  </thead>\n",
       "  <tbody>\n",
       "    <tr>\n",
       "      <th>0</th>\n",
       "      <td>1</td>\n",
       "      <td>62d6d4eb65561b91762be735</td>\n",
       "      <td>['Variable', 'Frequency (%)', 'Age Groups:']</td>\n",
       "      <td>['\"0-1 year\"']</td>\n",
       "      <td>['13 (32.5)']</td>\n",
       "      <td>1</td>\n",
       "    </tr>\n",
       "    <tr>\n",
       "      <th>1</th>\n",
       "      <td>2</td>\n",
       "      <td>62d6d4eb65561b91762be735</td>\n",
       "      <td>['Variable', 'Frequency (%)', 'Age Groups:']</td>\n",
       "      <td>['\"1.1-5 year\"']</td>\n",
       "      <td>['9 (22.5)']</td>\n",
       "      <td>1</td>\n",
       "    </tr>\n",
       "    <tr>\n",
       "      <th>2</th>\n",
       "      <td>3</td>\n",
       "      <td>62d6d4eb65561b91762be735</td>\n",
       "      <td>['Variable', 'Frequency (%)', 'Age Groups:']</td>\n",
       "      <td>['\"5.1-15 year\"']</td>\n",
       "      <td>['5 (12.5)']</td>\n",
       "      <td>1</td>\n",
       "    </tr>\n",
       "    <tr>\n",
       "      <th>3</th>\n",
       "      <td>4</td>\n",
       "      <td>62d6d4eb65561b91762be735</td>\n",
       "      <td>['Variable', 'Frequency (%)', 'Age Groups:']</td>\n",
       "      <td>['\"15.1-30 year\"']</td>\n",
       "      <td>['1 (2.5)']</td>\n",
       "      <td>1</td>\n",
       "    </tr>\n",
       "    <tr>\n",
       "      <th>4</th>\n",
       "      <td>5</td>\n",
       "      <td>62d6d4eb65561b91762be735</td>\n",
       "      <td>['Variable', 'Frequency (%)', 'Age Groups:']</td>\n",
       "      <td>['\"30.1 -50 year\"']</td>\n",
       "      <td>['5 (12.5)']</td>\n",
       "      <td>1</td>\n",
       "    </tr>\n",
       "  </tbody>\n",
       "</table>\n",
       "</div>"
      ],
      "text/plain": [
       "   Unnamed: 0                       _id  \\\n",
       "0           1  62d6d4eb65561b91762be735   \n",
       "1           2  62d6d4eb65561b91762be735   \n",
       "2           3  62d6d4eb65561b91762be735   \n",
       "3           4  62d6d4eb65561b91762be735   \n",
       "4           5  62d6d4eb65561b91762be735   \n",
       "\n",
       "                                         meta_h               meta_v  \\\n",
       "0  ['Variable', 'Frequency (%)', 'Age Groups:']       ['\"0-1 year\"']   \n",
       "1  ['Variable', 'Frequency (%)', 'Age Groups:']     ['\"1.1-5 year\"']   \n",
       "2  ['Variable', 'Frequency (%)', 'Age Groups:']    ['\"5.1-15 year\"']   \n",
       "3  ['Variable', 'Frequency (%)', 'Age Groups:']   ['\"15.1-30 year\"']   \n",
       "4  ['Variable', 'Frequency (%)', 'Age Groups:']  ['\"30.1 -50 year\"']   \n",
       "\n",
       "            data  label  \n",
       "0  ['13 (32.5)']      1  \n",
       "1   ['9 (22.5)']      1  \n",
       "2   ['5 (12.5)']      1  \n",
       "3    ['1 (2.5)']      1  \n",
       "4   ['5 (12.5)']      1  "
      ]
     },
     "execution_count": 276,
     "metadata": {},
     "output_type": "execute_result"
    }
   ],
   "source": [
    "allcovidtables6[:5]"
   ]
  },
  {
   "cell_type": "markdown",
   "metadata": {},
   "source": [
    "### •\tDates ex: 10-aug-1996, 10/4/2023 replace with the word DATE"
   ]
  },
  {
   "cell_type": "code",
   "execution_count": 111,
   "metadata": {},
   "outputs": [
    {
     "data": {
      "text/html": [
       "<div>\n",
       "<style scoped>\n",
       "    .dataframe tbody tr th:only-of-type {\n",
       "        vertical-align: middle;\n",
       "    }\n",
       "\n",
       "    .dataframe tbody tr th {\n",
       "        vertical-align: top;\n",
       "    }\n",
       "\n",
       "    .dataframe thead th {\n",
       "        text-align: right;\n",
       "    }\n",
       "</style>\n",
       "<table border=\"1\" class=\"dataframe\">\n",
       "  <thead>\n",
       "    <tr style=\"text-align: right;\">\n",
       "      <th></th>\n",
       "      <th>Unnamed: 0</th>\n",
       "      <th>_id</th>\n",
       "      <th>meta_h</th>\n",
       "      <th>meta_v</th>\n",
       "      <th>data</th>\n",
       "      <th>label</th>\n",
       "    </tr>\n",
       "  </thead>\n",
       "  <tbody>\n",
       "    <tr>\n",
       "      <th>0</th>\n",
       "      <td>1</td>\n",
       "      <td>62d6d4eb65561b91762be735</td>\n",
       "      <td>['Variable', 'Frequency (%)', 'Age Groups:']</td>\n",
       "      <td>['\"0-1 year\"']</td>\n",
       "      <td>['13 (32.5)']</td>\n",
       "      <td>1</td>\n",
       "    </tr>\n",
       "    <tr>\n",
       "      <th>1</th>\n",
       "      <td>2</td>\n",
       "      <td>62d6d4eb65561b91762be735</td>\n",
       "      <td>['Variable', 'Frequency (%)', 'Age Groups:']</td>\n",
       "      <td>['\"1.1-5 year\"']</td>\n",
       "      <td>['9 (22.5)']</td>\n",
       "      <td>1</td>\n",
       "    </tr>\n",
       "    <tr>\n",
       "      <th>2</th>\n",
       "      <td>3</td>\n",
       "      <td>62d6d4eb65561b91762be735</td>\n",
       "      <td>['Variable', 'Frequency (%)', 'Age Groups:']</td>\n",
       "      <td>['\"5.1-15 year\"']</td>\n",
       "      <td>['5 (12.5)']</td>\n",
       "      <td>1</td>\n",
       "    </tr>\n",
       "    <tr>\n",
       "      <th>3</th>\n",
       "      <td>4</td>\n",
       "      <td>62d6d4eb65561b91762be735</td>\n",
       "      <td>['Variable', 'Frequency (%)', 'Age Groups:']</td>\n",
       "      <td>['\"15.1-30 year\"']</td>\n",
       "      <td>['1 (2.5)']</td>\n",
       "      <td>1</td>\n",
       "    </tr>\n",
       "  </tbody>\n",
       "</table>\n",
       "</div>"
      ],
      "text/plain": [
       "   Unnamed: 0                       _id  \\\n",
       "0           1  62d6d4eb65561b91762be735   \n",
       "1           2  62d6d4eb65561b91762be735   \n",
       "2           3  62d6d4eb65561b91762be735   \n",
       "3           4  62d6d4eb65561b91762be735   \n",
       "\n",
       "                                         meta_h              meta_v  \\\n",
       "0  ['Variable', 'Frequency (%)', 'Age Groups:']      ['\"0-1 year\"']   \n",
       "1  ['Variable', 'Frequency (%)', 'Age Groups:']    ['\"1.1-5 year\"']   \n",
       "2  ['Variable', 'Frequency (%)', 'Age Groups:']   ['\"5.1-15 year\"']   \n",
       "3  ['Variable', 'Frequency (%)', 'Age Groups:']  ['\"15.1-30 year\"']   \n",
       "\n",
       "            data  label  \n",
       "0  ['13 (32.5)']      1  \n",
       "1   ['9 (22.5)']      1  \n",
       "2   ['5 (12.5)']      1  \n",
       "3    ['1 (2.5)']      1  "
      ]
     },
     "execution_count": 111,
     "metadata": {},
     "output_type": "execute_result"
    }
   ],
   "source": [
    "allcovidtables[:4]"
   ]
  },
  {
   "cell_type": "code",
   "execution_count": 112,
   "metadata": {},
   "outputs": [],
   "source": [
    "def replace_dates(text):\n",
    "    return re.sub(r\"\\d{1,2}[-/]\\w{3}[-/]\\d{4}\", \"DATE\", str(text))\n",
    "\n",
    "# Use the applymap() method to apply the replace_dates() function to every element of the DataFrame\n",
    "allcovidtables7 = allcovidtables.applymap(replace_dates)\n"
   ]
  },
  {
   "cell_type": "code",
   "execution_count": 114,
   "metadata": {},
   "outputs": [
    {
     "data": {
      "text/html": [
       "<div>\n",
       "<style scoped>\n",
       "    .dataframe tbody tr th:only-of-type {\n",
       "        vertical-align: middle;\n",
       "    }\n",
       "\n",
       "    .dataframe tbody tr th {\n",
       "        vertical-align: top;\n",
       "    }\n",
       "\n",
       "    .dataframe thead th {\n",
       "        text-align: right;\n",
       "    }\n",
       "</style>\n",
       "<table border=\"1\" class=\"dataframe\">\n",
       "  <thead>\n",
       "    <tr style=\"text-align: right;\">\n",
       "      <th></th>\n",
       "      <th>Unnamed: 0</th>\n",
       "      <th>_id</th>\n",
       "      <th>meta_h</th>\n",
       "      <th>meta_v</th>\n",
       "      <th>data</th>\n",
       "      <th>label</th>\n",
       "    </tr>\n",
       "  </thead>\n",
       "  <tbody>\n",
       "    <tr>\n",
       "      <th>0</th>\n",
       "      <td>1</td>\n",
       "      <td>62d6d4eb65561b91762be735</td>\n",
       "      <td>['Variable', 'Frequency (%)', 'Age Groups:']</td>\n",
       "      <td>['\"0-1 year\"']</td>\n",
       "      <td>['13 (32.5)']</td>\n",
       "      <td>1</td>\n",
       "    </tr>\n",
       "    <tr>\n",
       "      <th>1</th>\n",
       "      <td>2</td>\n",
       "      <td>62d6d4eb65561b91762be735</td>\n",
       "      <td>['Variable', 'Frequency (%)', 'Age Groups:']</td>\n",
       "      <td>['\"1.1-5 year\"']</td>\n",
       "      <td>['9 (22.5)']</td>\n",
       "      <td>1</td>\n",
       "    </tr>\n",
       "    <tr>\n",
       "      <th>2</th>\n",
       "      <td>3</td>\n",
       "      <td>62d6d4eb65561b91762be735</td>\n",
       "      <td>['Variable', 'Frequency (%)', 'Age Groups:']</td>\n",
       "      <td>['\"5.1-15 year\"']</td>\n",
       "      <td>['5 (12.5)']</td>\n",
       "      <td>1</td>\n",
       "    </tr>\n",
       "    <tr>\n",
       "      <th>3</th>\n",
       "      <td>4</td>\n",
       "      <td>62d6d4eb65561b91762be735</td>\n",
       "      <td>['Variable', 'Frequency (%)', 'Age Groups:']</td>\n",
       "      <td>['\"15.1-30 year\"']</td>\n",
       "      <td>['1 (2.5)']</td>\n",
       "      <td>1</td>\n",
       "    </tr>\n",
       "    <tr>\n",
       "      <th>4</th>\n",
       "      <td>5</td>\n",
       "      <td>62d6d4eb65561b91762be735</td>\n",
       "      <td>['Variable', 'Frequency (%)', 'Age Groups:']</td>\n",
       "      <td>['\"30.1 -50 year\"']</td>\n",
       "      <td>['5 (12.5)']</td>\n",
       "      <td>1</td>\n",
       "    </tr>\n",
       "  </tbody>\n",
       "</table>\n",
       "</div>"
      ],
      "text/plain": [
       "  Unnamed: 0                       _id  \\\n",
       "0          1  62d6d4eb65561b91762be735   \n",
       "1          2  62d6d4eb65561b91762be735   \n",
       "2          3  62d6d4eb65561b91762be735   \n",
       "3          4  62d6d4eb65561b91762be735   \n",
       "4          5  62d6d4eb65561b91762be735   \n",
       "\n",
       "                                         meta_h               meta_v  \\\n",
       "0  ['Variable', 'Frequency (%)', 'Age Groups:']       ['\"0-1 year\"']   \n",
       "1  ['Variable', 'Frequency (%)', 'Age Groups:']     ['\"1.1-5 year\"']   \n",
       "2  ['Variable', 'Frequency (%)', 'Age Groups:']    ['\"5.1-15 year\"']   \n",
       "3  ['Variable', 'Frequency (%)', 'Age Groups:']   ['\"15.1-30 year\"']   \n",
       "4  ['Variable', 'Frequency (%)', 'Age Groups:']  ['\"30.1 -50 year\"']   \n",
       "\n",
       "            data label  \n",
       "0  ['13 (32.5)']     1  \n",
       "1   ['9 (22.5)']     1  \n",
       "2   ['5 (12.5)']     1  \n",
       "3    ['1 (2.5)']     1  \n",
       "4   ['5 (12.5)']     1  "
      ]
     },
     "execution_count": 114,
     "metadata": {},
     "output_type": "execute_result"
    }
   ],
   "source": [
    "allcovidtables7[:5]"
   ]
  },
  {
   "cell_type": "code",
   "execution_count": null,
   "metadata": {},
   "outputs": [],
   "source": []
  },
  {
   "cell_type": "code",
   "execution_count": null,
   "metadata": {},
   "outputs": [],
   "source": []
  },
  {
   "cell_type": "markdown",
   "metadata": {},
   "source": [
    "### •\tUnits ex: 10mg,7ml,18kg with the word UNITMG, UNITML , UNITKG"
   ]
  },
  {
   "cell_type": "code",
   "execution_count": 115,
   "metadata": {},
   "outputs": [],
   "source": [
    "def replace_mg(text):\n",
    "    return re.sub(r\"\\d+mg\", \"UNITMG\", str(text))\n",
    "\n",
    "# Use the applymap() method to apply the replace_doses() function to every element of the DataFrame\n"
   ]
  },
  {
   "cell_type": "code",
   "execution_count": 121,
   "metadata": {},
   "outputs": [],
   "source": [
    "allcovidtables8 = allcovidtables.applymap(replace_mg)\n"
   ]
  },
  {
   "cell_type": "code",
   "execution_count": 122,
   "metadata": {},
   "outputs": [],
   "source": [
    "def replace_ml(text):\n",
    "    return re.sub(r\"\\d+ml\", \"UNITML\", str(text))"
   ]
  },
  {
   "cell_type": "code",
   "execution_count": 123,
   "metadata": {},
   "outputs": [],
   "source": [
    "def replace_kg(text):\n",
    "    return re.sub(r\"\\d+kg\", \"UNITKG\", str(text))"
   ]
  },
  {
   "cell_type": "code",
   "execution_count": 124,
   "metadata": {},
   "outputs": [],
   "source": [
    "allcovidtables8 = allcovidtables8.applymap(replace_ml)\n",
    "\n",
    "allcovidtables8= allcovidtables8.applymap(replace_kg)\n"
   ]
  },
  {
   "cell_type": "code",
   "execution_count": 125,
   "metadata": {},
   "outputs": [
    {
     "data": {
      "text/html": [
       "<div>\n",
       "<style scoped>\n",
       "    .dataframe tbody tr th:only-of-type {\n",
       "        vertical-align: middle;\n",
       "    }\n",
       "\n",
       "    .dataframe tbody tr th {\n",
       "        vertical-align: top;\n",
       "    }\n",
       "\n",
       "    .dataframe thead th {\n",
       "        text-align: right;\n",
       "    }\n",
       "</style>\n",
       "<table border=\"1\" class=\"dataframe\">\n",
       "  <thead>\n",
       "    <tr style=\"text-align: right;\">\n",
       "      <th></th>\n",
       "      <th>Unnamed: 0</th>\n",
       "      <th>_id</th>\n",
       "      <th>meta_h</th>\n",
       "      <th>meta_v</th>\n",
       "      <th>data</th>\n",
       "      <th>label</th>\n",
       "    </tr>\n",
       "  </thead>\n",
       "  <tbody>\n",
       "    <tr>\n",
       "      <th>0</th>\n",
       "      <td>1</td>\n",
       "      <td>62d6d4eb65561b91762be735</td>\n",
       "      <td>['Variable', 'Frequency (%)', 'Age Groups:']</td>\n",
       "      <td>['\"0-1 year\"']</td>\n",
       "      <td>['13 (32.5)']</td>\n",
       "      <td>1</td>\n",
       "    </tr>\n",
       "    <tr>\n",
       "      <th>1</th>\n",
       "      <td>2</td>\n",
       "      <td>62d6d4eb65561b91762be735</td>\n",
       "      <td>['Variable', 'Frequency (%)', 'Age Groups:']</td>\n",
       "      <td>['\"1.1-5 year\"']</td>\n",
       "      <td>['9 (22.5)']</td>\n",
       "      <td>1</td>\n",
       "    </tr>\n",
       "    <tr>\n",
       "      <th>2</th>\n",
       "      <td>3</td>\n",
       "      <td>62d6d4eb65561b91762be735</td>\n",
       "      <td>['Variable', 'Frequency (%)', 'Age Groups:']</td>\n",
       "      <td>['\"5.1-15 year\"']</td>\n",
       "      <td>['5 (12.5)']</td>\n",
       "      <td>1</td>\n",
       "    </tr>\n",
       "    <tr>\n",
       "      <th>3</th>\n",
       "      <td>4</td>\n",
       "      <td>62d6d4eb65561b91762be735</td>\n",
       "      <td>['Variable', 'Frequency (%)', 'Age Groups:']</td>\n",
       "      <td>['\"15.1-30 year\"']</td>\n",
       "      <td>['1 (2.5)']</td>\n",
       "      <td>1</td>\n",
       "    </tr>\n",
       "  </tbody>\n",
       "</table>\n",
       "</div>"
      ],
      "text/plain": [
       "  Unnamed: 0                       _id  \\\n",
       "0          1  62d6d4eb65561b91762be735   \n",
       "1          2  62d6d4eb65561b91762be735   \n",
       "2          3  62d6d4eb65561b91762be735   \n",
       "3          4  62d6d4eb65561b91762be735   \n",
       "\n",
       "                                         meta_h              meta_v  \\\n",
       "0  ['Variable', 'Frequency (%)', 'Age Groups:']      ['\"0-1 year\"']   \n",
       "1  ['Variable', 'Frequency (%)', 'Age Groups:']    ['\"1.1-5 year\"']   \n",
       "2  ['Variable', 'Frequency (%)', 'Age Groups:']   ['\"5.1-15 year\"']   \n",
       "3  ['Variable', 'Frequency (%)', 'Age Groups:']  ['\"15.1-30 year\"']   \n",
       "\n",
       "            data label  \n",
       "0  ['13 (32.5)']     1  \n",
       "1   ['9 (22.5)']     1  \n",
       "2   ['5 (12.5)']     1  \n",
       "3    ['1 (2.5)']     1  "
      ]
     },
     "execution_count": 125,
     "metadata": {},
     "output_type": "execute_result"
    }
   ],
   "source": [
    "allcovidtables8[:4]"
   ]
  },
  {
   "cell_type": "code",
   "execution_count": null,
   "metadata": {},
   "outputs": [],
   "source": []
  }
 ],
 "metadata": {
  "kernelspec": {
   "display_name": "Python 3",
   "language": "python",
   "name": "python3"
  },
  "language_info": {
   "codemirror_mode": {
    "name": "ipython",
    "version": 3
   },
   "file_extension": ".py",
   "mimetype": "text/x-python",
   "name": "python",
   "nbconvert_exporter": "python",
   "pygments_lexer": "ipython3",
   "version": "3.8.3"
  },
  "toc": {
   "base_numbering": 1,
   "nav_menu": {},
   "number_sections": true,
   "sideBar": true,
   "skip_h1_title": false,
   "title_cell": "Table of Contents",
   "title_sidebar": "Contents",
   "toc_cell": false,
   "toc_position": {
    "height": "calc(100% - 180px)",
    "left": "10px",
    "top": "150px",
    "width": "480px"
   },
   "toc_section_display": true,
   "toc_window_display": true
  }
 },
 "nbformat": 4,
 "nbformat_minor": 4
}
